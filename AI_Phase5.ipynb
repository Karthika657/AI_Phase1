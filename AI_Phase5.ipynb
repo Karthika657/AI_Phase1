{
 "cells": [
  {
   "cell_type": "code",
   "execution_count": 1,
   "id": "3a3d6418-9cf8-41f5-8bf8-7a398818016d",
   "metadata": {},
   "outputs": [],
   "source": [
    "import pandas as df"
   ]
  },
  {
   "cell_type": "code",
   "execution_count": 2,
   "id": "6e394145-9741-46fc-afa2-016fe96ac408",
   "metadata": {},
   "outputs": [
    {
     "name": "stdout",
     "output_type": "stream",
     "text": [
      "Requirement already satisfied: pandas in c:\\users\\riaz\\appdata\\local\\programs\\python\\python312\\lib\\site-packages (2.1.1)Note: you may need to restart the kernel to use updated packages.\n",
      "\n",
      "Requirement already satisfied: numpy>=1.26.0 in c:\\users\\riaz\\appdata\\local\\programs\\python\\python312\\lib\\site-packages (from pandas) (1.26.0)\n",
      "Requirement already satisfied: python-dateutil>=2.8.2 in c:\\users\\riaz\\appdata\\local\\programs\\python\\python312\\lib\\site-packages (from pandas) (2.8.2)\n",
      "Requirement already satisfied: pytz>=2020.1 in c:\\users\\riaz\\appdata\\local\\programs\\python\\python312\\lib\\site-packages (from pandas) (2023.3.post1)\n",
      "Requirement already satisfied: tzdata>=2022.1 in c:\\users\\riaz\\appdata\\local\\programs\\python\\python312\\lib\\site-packages (from pandas) (2023.3)\n",
      "Requirement already satisfied: six>=1.5 in c:\\users\\riaz\\appdata\\local\\programs\\python\\python312\\lib\\site-packages (from python-dateutil>=2.8.2->pandas) (1.16.0)\n"
     ]
    },
    {
     "name": "stderr",
     "output_type": "stream",
     "text": [
      "\n",
      "[notice] A new release of pip is available: 23.2.1 -> 23.3.1\n",
      "[notice] To update, run: python.exe -m pip install --upgrade pip\n"
     ]
    }
   ],
   "source": [
    "pip install pandas\n"
   ]
  },
  {
   "cell_type": "markdown",
   "id": "24867c3c-2e16-432f-87b8-c8441de3aa06",
   "metadata": {},
   "source": [
    "## pandas is installed"
   ]
  },
  {
   "cell_type": "code",
   "execution_count": 3,
   "id": "77cc793c-6019-41b9-aaf3-693f429c2b05",
   "metadata": {},
   "outputs": [
    {
     "name": "stderr",
     "output_type": "stream",
     "text": [
      "C:\\Users\\Riaz\\AppData\\Local\\Temp\\ipykernel_17016\\250247815.py:1: DtypeWarning: Columns (10) have mixed types. Specify dtype option on import or set low_memory=False.\n",
      "  dd=df.read_csv(r\"C:\\Users\\Riaz\\Desktop\\jupyternotebook\\encoded-Data_Gov_Tamil_Nadu (1).csv\")\n"
     ]
    }
   ],
   "source": [
    "dd=df.read_csv(r\"C:\\Users\\Riaz\\Desktop\\jupyternotebook\\encoded-Data_Gov_Tamil_Nadu (1).csv\")"
   ]
  },
  {
   "cell_type": "markdown",
   "id": "6a1b5167-6a54-4861-8d8f-4864b80d5f13",
   "metadata": {},
   "source": [
    "## Data is imported"
   ]
  },
  {
   "cell_type": "code",
   "execution_count": 4,
   "id": "bbc4ea08-3d0b-4c37-9d0d-f18c1b8720c9",
   "metadata": {},
   "outputs": [
    {
     "data": {
      "text/html": [
       "<div>\n",
       "<style scoped>\n",
       "    .dataframe tbody tr th:only-of-type {\n",
       "        vertical-align: middle;\n",
       "    }\n",
       "\n",
       "    .dataframe tbody tr th {\n",
       "        vertical-align: top;\n",
       "    }\n",
       "\n",
       "    .dataframe thead th {\n",
       "        text-align: right;\n",
       "    }\n",
       "</style>\n",
       "<table border=\"1\" class=\"dataframe\">\n",
       "  <thead>\n",
       "    <tr style=\"text-align: right;\">\n",
       "      <th></th>\n",
       "      <th>CORPORATE_IDENTIFICATION_NUMBER</th>\n",
       "      <th>COMPANY_NAME</th>\n",
       "      <th>COMPANY_STATUS</th>\n",
       "      <th>COMPANY_CLASS</th>\n",
       "      <th>COMPANY_CATEGORY</th>\n",
       "      <th>COMPANY_SUB_CATEGORY</th>\n",
       "      <th>DATE_OF_REGISTRATION</th>\n",
       "      <th>REGISTERED_STATE</th>\n",
       "      <th>AUTHORIZED_CAP</th>\n",
       "      <th>PAIDUP_CAPITAL</th>\n",
       "      <th>INDUSTRIAL_CLASS</th>\n",
       "      <th>PRINCIPAL_BUSINESS_ACTIVITY_AS_PER_CIN</th>\n",
       "      <th>REGISTERED_OFFICE_ADDRESS</th>\n",
       "      <th>REGISTRAR_OF_COMPANIES</th>\n",
       "      <th>EMAIL_ADDR</th>\n",
       "      <th>LATEST_YEAR_ANNUAL_RETURN</th>\n",
       "      <th>LATEST_YEAR_FINANCIAL_STATEMENT</th>\n",
       "    </tr>\n",
       "  </thead>\n",
       "  <tbody>\n",
       "    <tr>\n",
       "      <th>0</th>\n",
       "      <td>F00643</td>\n",
       "      <td>HOCHTIEFF AG,</td>\n",
       "      <td>NAEF</td>\n",
       "      <td>NaN</td>\n",
       "      <td>NaN</td>\n",
       "      <td>NaN</td>\n",
       "      <td>01-12-1961</td>\n",
       "      <td>Tamil Nadu</td>\n",
       "      <td>0.0</td>\n",
       "      <td>0.0</td>\n",
       "      <td>NaN</td>\n",
       "      <td>Agriculture &amp; allied</td>\n",
       "      <td>AMBLE SIDE, NO.8(OLD NO.30),3RD FLOOR KHADER N...</td>\n",
       "      <td>ROC DELHI</td>\n",
       "      <td>NaN</td>\n",
       "      <td>NaN</td>\n",
       "      <td>NaN</td>\n",
       "    </tr>\n",
       "    <tr>\n",
       "      <th>1</th>\n",
       "      <td>F00721</td>\n",
       "      <td>SUMITOMO CORPORATION (SUMITOMO SHOJI KAISHA LI...</td>\n",
       "      <td>ACTV</td>\n",
       "      <td>NaN</td>\n",
       "      <td>NaN</td>\n",
       "      <td>NaN</td>\n",
       "      <td>NaN</td>\n",
       "      <td>Tamil Nadu</td>\n",
       "      <td>0.0</td>\n",
       "      <td>0.0</td>\n",
       "      <td>NaN</td>\n",
       "      <td>Agriculture &amp; allied</td>\n",
       "      <td>FLAT NO. 6, 1st FLOOR, 113/113ARAMA NAICKEN ST...</td>\n",
       "      <td>ROC DELHI</td>\n",
       "      <td>shuchi.chug@asa.in</td>\n",
       "      <td>NaN</td>\n",
       "      <td>NaN</td>\n",
       "    </tr>\n",
       "    <tr>\n",
       "      <th>2</th>\n",
       "      <td>F00892</td>\n",
       "      <td>SRILANKAN AIRLINES LIMITED</td>\n",
       "      <td>ACTV</td>\n",
       "      <td>NaN</td>\n",
       "      <td>NaN</td>\n",
       "      <td>NaN</td>\n",
       "      <td>01-03-1982</td>\n",
       "      <td>Tamil Nadu</td>\n",
       "      <td>0.0</td>\n",
       "      <td>0.0</td>\n",
       "      <td>NaN</td>\n",
       "      <td>Agriculture &amp; allied</td>\n",
       "      <td>SRILANKAN AIRLINES LIMITED, VIJAYA TOWERSNO-4,...</td>\n",
       "      <td>ROC DELHI</td>\n",
       "      <td>shree16us@yahoo.com</td>\n",
       "      <td>NaN</td>\n",
       "      <td>NaN</td>\n",
       "    </tr>\n",
       "    <tr>\n",
       "      <th>3</th>\n",
       "      <td>F01208</td>\n",
       "      <td>CALTEX INDIA LIMITED</td>\n",
       "      <td>NAEF</td>\n",
       "      <td>NaN</td>\n",
       "      <td>NaN</td>\n",
       "      <td>NaN</td>\n",
       "      <td>NaN</td>\n",
       "      <td>Tamil Nadu</td>\n",
       "      <td>0.0</td>\n",
       "      <td>0.0</td>\n",
       "      <td>NaN</td>\n",
       "      <td>Agriculture &amp; allied</td>\n",
       "      <td>GOLD CREST 24 55 NORTHUSMAN ROAD T NAGAR</td>\n",
       "      <td>ROC DELHI</td>\n",
       "      <td>NaN</td>\n",
       "      <td>NaN</td>\n",
       "      <td>NaN</td>\n",
       "    </tr>\n",
       "    <tr>\n",
       "      <th>4</th>\n",
       "      <td>F01218</td>\n",
       "      <td>GE HEALTHCARE BIO-SCIENCES LIMITED</td>\n",
       "      <td>ACTV</td>\n",
       "      <td>NaN</td>\n",
       "      <td>NaN</td>\n",
       "      <td>NaN</td>\n",
       "      <td>NaN</td>\n",
       "      <td>Tamil Nadu</td>\n",
       "      <td>0.0</td>\n",
       "      <td>0.0</td>\n",
       "      <td>NaN</td>\n",
       "      <td>Agriculture &amp; allied</td>\n",
       "      <td>FF-3 Palani  Centre32 Venkat Naryan Road Nagar</td>\n",
       "      <td>ROC DELHI</td>\n",
       "      <td>karthick9999@yahoo.com</td>\n",
       "      <td>NaN</td>\n",
       "      <td>NaN</td>\n",
       "    </tr>\n",
       "  </tbody>\n",
       "</table>\n",
       "</div>"
      ],
      "text/plain": [
       "  CORPORATE_IDENTIFICATION_NUMBER  \\\n",
       "0                          F00643   \n",
       "1                          F00721   \n",
       "2                          F00892   \n",
       "3                          F01208   \n",
       "4                          F01218   \n",
       "\n",
       "                                        COMPANY_NAME COMPANY_STATUS  \\\n",
       "0                                   HOCHTIEFF AG,              NAEF   \n",
       "1  SUMITOMO CORPORATION (SUMITOMO SHOJI KAISHA LI...           ACTV   \n",
       "2                      SRILANKAN AIRLINES LIMITED              ACTV   \n",
       "3                            CALTEX INDIA LIMITED              NAEF   \n",
       "4              GE HEALTHCARE BIO-SCIENCES LIMITED              ACTV   \n",
       "\n",
       "  COMPANY_CLASS COMPANY_CATEGORY COMPANY_SUB_CATEGORY DATE_OF_REGISTRATION  \\\n",
       "0           NaN              NaN                  NaN           01-12-1961   \n",
       "1           NaN              NaN                  NaN                  NaN   \n",
       "2           NaN              NaN                  NaN           01-03-1982   \n",
       "3           NaN              NaN                  NaN                  NaN   \n",
       "4           NaN              NaN                  NaN                  NaN   \n",
       "\n",
       "  REGISTERED_STATE  AUTHORIZED_CAP  PAIDUP_CAPITAL INDUSTRIAL_CLASS  \\\n",
       "0       Tamil Nadu             0.0             0.0              NaN   \n",
       "1       Tamil Nadu             0.0             0.0              NaN   \n",
       "2       Tamil Nadu             0.0             0.0              NaN   \n",
       "3       Tamil Nadu             0.0             0.0              NaN   \n",
       "4       Tamil Nadu             0.0             0.0              NaN   \n",
       "\n",
       "  PRINCIPAL_BUSINESS_ACTIVITY_AS_PER_CIN  \\\n",
       "0                   Agriculture & allied   \n",
       "1                   Agriculture & allied   \n",
       "2                   Agriculture & allied   \n",
       "3                   Agriculture & allied   \n",
       "4                   Agriculture & allied   \n",
       "\n",
       "                           REGISTERED_OFFICE_ADDRESS REGISTRAR_OF_COMPANIES  \\\n",
       "0  AMBLE SIDE, NO.8(OLD NO.30),3RD FLOOR KHADER N...              ROC DELHI   \n",
       "1  FLAT NO. 6, 1st FLOOR, 113/113ARAMA NAICKEN ST...              ROC DELHI   \n",
       "2  SRILANKAN AIRLINES LIMITED, VIJAYA TOWERSNO-4,...              ROC DELHI   \n",
       "3         GOLD CREST 24 55 NORTHUSMAN ROAD T NAGAR                ROC DELHI   \n",
       "4   FF-3 Palani  Centre32 Venkat Naryan Road Nagar                ROC DELHI   \n",
       "\n",
       "               EMAIL_ADDR LATEST_YEAR_ANNUAL_RETURN  \\\n",
       "0                     NaN                       NaN   \n",
       "1      shuchi.chug@asa.in                       NaN   \n",
       "2     shree16us@yahoo.com                       NaN   \n",
       "3                     NaN                       NaN   \n",
       "4  karthick9999@yahoo.com                       NaN   \n",
       "\n",
       "  LATEST_YEAR_FINANCIAL_STATEMENT  \n",
       "0                             NaN  \n",
       "1                             NaN  \n",
       "2                             NaN  \n",
       "3                             NaN  \n",
       "4                             NaN  "
      ]
     },
     "execution_count": 4,
     "metadata": {},
     "output_type": "execute_result"
    }
   ],
   "source": [
    "dd.head()"
   ]
  },
  {
   "cell_type": "markdown",
   "id": "a9033eee-8698-436c-a486-466e62e92ebd",
   "metadata": {},
   "source": [
    "## head()- Returns the first 5 rows of the dataset"
   ]
  },
  {
   "cell_type": "code",
   "execution_count": 5,
   "id": "8f3b58cf-d343-417e-8f0f-5ced793c006f",
   "metadata": {},
   "outputs": [
    {
     "data": {
      "text/html": [
       "<div>\n",
       "<style scoped>\n",
       "    .dataframe tbody tr th:only-of-type {\n",
       "        vertical-align: middle;\n",
       "    }\n",
       "\n",
       "    .dataframe tbody tr th {\n",
       "        vertical-align: top;\n",
       "    }\n",
       "\n",
       "    .dataframe thead th {\n",
       "        text-align: right;\n",
       "    }\n",
       "</style>\n",
       "<table border=\"1\" class=\"dataframe\">\n",
       "  <thead>\n",
       "    <tr style=\"text-align: right;\">\n",
       "      <th></th>\n",
       "      <th>CORPORATE_IDENTIFICATION_NUMBER</th>\n",
       "      <th>COMPANY_NAME</th>\n",
       "      <th>COMPANY_STATUS</th>\n",
       "      <th>COMPANY_CLASS</th>\n",
       "      <th>COMPANY_CATEGORY</th>\n",
       "      <th>COMPANY_SUB_CATEGORY</th>\n",
       "      <th>DATE_OF_REGISTRATION</th>\n",
       "      <th>REGISTERED_STATE</th>\n",
       "      <th>AUTHORIZED_CAP</th>\n",
       "      <th>PAIDUP_CAPITAL</th>\n",
       "      <th>INDUSTRIAL_CLASS</th>\n",
       "      <th>PRINCIPAL_BUSINESS_ACTIVITY_AS_PER_CIN</th>\n",
       "      <th>REGISTERED_OFFICE_ADDRESS</th>\n",
       "      <th>REGISTRAR_OF_COMPANIES</th>\n",
       "      <th>EMAIL_ADDR</th>\n",
       "      <th>LATEST_YEAR_ANNUAL_RETURN</th>\n",
       "      <th>LATEST_YEAR_FINANCIAL_STATEMENT</th>\n",
       "    </tr>\n",
       "  </thead>\n",
       "  <tbody>\n",
       "    <tr>\n",
       "      <th>0</th>\n",
       "      <td>F00643</td>\n",
       "      <td>HOCHTIEFF AG,</td>\n",
       "      <td>NAEF</td>\n",
       "      <td>NaN</td>\n",
       "      <td>NaN</td>\n",
       "      <td>NaN</td>\n",
       "      <td>01-12-1961</td>\n",
       "      <td>Tamil Nadu</td>\n",
       "      <td>0.0</td>\n",
       "      <td>0.0</td>\n",
       "      <td>NaN</td>\n",
       "      <td>Agriculture &amp; allied</td>\n",
       "      <td>AMBLE SIDE, NO.8(OLD NO.30),3RD FLOOR KHADER N...</td>\n",
       "      <td>ROC DELHI</td>\n",
       "      <td>NaN</td>\n",
       "      <td>NaN</td>\n",
       "      <td>NaN</td>\n",
       "    </tr>\n",
       "    <tr>\n",
       "      <th>1</th>\n",
       "      <td>F00721</td>\n",
       "      <td>SUMITOMO CORPORATION (SUMITOMO SHOJI KAISHA LI...</td>\n",
       "      <td>ACTV</td>\n",
       "      <td>NaN</td>\n",
       "      <td>NaN</td>\n",
       "      <td>NaN</td>\n",
       "      <td>NaN</td>\n",
       "      <td>Tamil Nadu</td>\n",
       "      <td>0.0</td>\n",
       "      <td>0.0</td>\n",
       "      <td>NaN</td>\n",
       "      <td>Agriculture &amp; allied</td>\n",
       "      <td>FLAT NO. 6, 1st FLOOR, 113/113ARAMA NAICKEN ST...</td>\n",
       "      <td>ROC DELHI</td>\n",
       "      <td>shuchi.chug@asa.in</td>\n",
       "      <td>NaN</td>\n",
       "      <td>NaN</td>\n",
       "    </tr>\n",
       "    <tr>\n",
       "      <th>2</th>\n",
       "      <td>F00892</td>\n",
       "      <td>SRILANKAN AIRLINES LIMITED</td>\n",
       "      <td>ACTV</td>\n",
       "      <td>NaN</td>\n",
       "      <td>NaN</td>\n",
       "      <td>NaN</td>\n",
       "      <td>01-03-1982</td>\n",
       "      <td>Tamil Nadu</td>\n",
       "      <td>0.0</td>\n",
       "      <td>0.0</td>\n",
       "      <td>NaN</td>\n",
       "      <td>Agriculture &amp; allied</td>\n",
       "      <td>SRILANKAN AIRLINES LIMITED, VIJAYA TOWERSNO-4,...</td>\n",
       "      <td>ROC DELHI</td>\n",
       "      <td>shree16us@yahoo.com</td>\n",
       "      <td>NaN</td>\n",
       "      <td>NaN</td>\n",
       "    </tr>\n",
       "    <tr>\n",
       "      <th>3</th>\n",
       "      <td>F01208</td>\n",
       "      <td>CALTEX INDIA LIMITED</td>\n",
       "      <td>NAEF</td>\n",
       "      <td>NaN</td>\n",
       "      <td>NaN</td>\n",
       "      <td>NaN</td>\n",
       "      <td>NaN</td>\n",
       "      <td>Tamil Nadu</td>\n",
       "      <td>0.0</td>\n",
       "      <td>0.0</td>\n",
       "      <td>NaN</td>\n",
       "      <td>Agriculture &amp; allied</td>\n",
       "      <td>GOLD CREST 24 55 NORTHUSMAN ROAD T NAGAR</td>\n",
       "      <td>ROC DELHI</td>\n",
       "      <td>NaN</td>\n",
       "      <td>NaN</td>\n",
       "      <td>NaN</td>\n",
       "    </tr>\n",
       "    <tr>\n",
       "      <th>4</th>\n",
       "      <td>F01218</td>\n",
       "      <td>GE HEALTHCARE BIO-SCIENCES LIMITED</td>\n",
       "      <td>ACTV</td>\n",
       "      <td>NaN</td>\n",
       "      <td>NaN</td>\n",
       "      <td>NaN</td>\n",
       "      <td>NaN</td>\n",
       "      <td>Tamil Nadu</td>\n",
       "      <td>0.0</td>\n",
       "      <td>0.0</td>\n",
       "      <td>NaN</td>\n",
       "      <td>Agriculture &amp; allied</td>\n",
       "      <td>FF-3 Palani  Centre32 Venkat Naryan Road Nagar</td>\n",
       "      <td>ROC DELHI</td>\n",
       "      <td>karthick9999@yahoo.com</td>\n",
       "      <td>NaN</td>\n",
       "      <td>NaN</td>\n",
       "    </tr>\n",
       "    <tr>\n",
       "      <th>...</th>\n",
       "      <td>...</td>\n",
       "      <td>...</td>\n",
       "      <td>...</td>\n",
       "      <td>...</td>\n",
       "      <td>...</td>\n",
       "      <td>...</td>\n",
       "      <td>...</td>\n",
       "      <td>...</td>\n",
       "      <td>...</td>\n",
       "      <td>...</td>\n",
       "      <td>...</td>\n",
       "      <td>...</td>\n",
       "      <td>...</td>\n",
       "      <td>...</td>\n",
       "      <td>...</td>\n",
       "      <td>...</td>\n",
       "      <td>...</td>\n",
       "    </tr>\n",
       "    <tr>\n",
       "      <th>150866</th>\n",
       "      <td>U74997TN2016PTC112556</td>\n",
       "      <td>QUAD42 MEDIA PRIVATE LIMITED</td>\n",
       "      <td>ACTV</td>\n",
       "      <td>Private</td>\n",
       "      <td>Company limited by Shares</td>\n",
       "      <td>Non-govt company</td>\n",
       "      <td>19-09-2016</td>\n",
       "      <td>Tamil Nadu</td>\n",
       "      <td>1000000.0</td>\n",
       "      <td>100000.0</td>\n",
       "      <td>74997</td>\n",
       "      <td>Real estate renting and business activities</td>\n",
       "      <td>Old No.37, New No.5753rd Street, 9th Avenue</td>\n",
       "      <td>ROC CHENNAI</td>\n",
       "      <td>ezhil@quad42.com</td>\n",
       "      <td>31-03-2019</td>\n",
       "      <td>31-03-2019</td>\n",
       "    </tr>\n",
       "    <tr>\n",
       "      <th>150867</th>\n",
       "      <td>U74997TN2018PTC121491</td>\n",
       "      <td>IYERAATHU FOODS PRIVATE LIMITED</td>\n",
       "      <td>ACTV</td>\n",
       "      <td>Private</td>\n",
       "      <td>Company limited by Shares</td>\n",
       "      <td>Non-govt company</td>\n",
       "      <td>16-03-2018</td>\n",
       "      <td>Tamil Nadu</td>\n",
       "      <td>100000.0</td>\n",
       "      <td>100000.0</td>\n",
       "      <td>74997</td>\n",
       "      <td>Real estate renting and business activities</td>\n",
       "      <td>G-3, G-Block, AKS Garden,11/1, 2nd Street Rama...</td>\n",
       "      <td>ROC CHENNAI</td>\n",
       "      <td>sneha.creative@gmail.com</td>\n",
       "      <td>NaN</td>\n",
       "      <td>NaN</td>\n",
       "    </tr>\n",
       "    <tr>\n",
       "      <th>150868</th>\n",
       "      <td>U74997TZ2016PTC027802</td>\n",
       "      <td>POLYGAR FARM SOLUTIONS PRIVATE LIMITED</td>\n",
       "      <td>STOF</td>\n",
       "      <td>Private</td>\n",
       "      <td>Company limited by Shares</td>\n",
       "      <td>Non-govt company</td>\n",
       "      <td>20-07-2016</td>\n",
       "      <td>Tamil Nadu</td>\n",
       "      <td>100000.0</td>\n",
       "      <td>20000.0</td>\n",
       "      <td>74997</td>\n",
       "      <td>Real estate renting and business activities</td>\n",
       "      <td>31, LIC Colony (VOC Colony),Kurichi,</td>\n",
       "      <td>ROC COIMBATORE</td>\n",
       "      <td>prashanthramana@gmail.com</td>\n",
       "      <td>NaN</td>\n",
       "      <td>NaN</td>\n",
       "    </tr>\n",
       "    <tr>\n",
       "      <th>150869</th>\n",
       "      <td>U74997TZ2018PTC030177</td>\n",
       "      <td>PANDIYA AGRI SOLUTIONS PRIVATE LIMITED</td>\n",
       "      <td>ACTV</td>\n",
       "      <td>Private</td>\n",
       "      <td>Company limited by Shares</td>\n",
       "      <td>Non-govt company</td>\n",
       "      <td>16-03-2018</td>\n",
       "      <td>Tamil Nadu</td>\n",
       "      <td>2500000.0</td>\n",
       "      <td>1500000.0</td>\n",
       "      <td>74997</td>\n",
       "      <td>Real estate renting and business activities</td>\n",
       "      <td>10/10 C3, Venkatasamy StreetRailyway Mens Colo...</td>\n",
       "      <td>ROC COIMBATORE</td>\n",
       "      <td>sathishpandiya@gmail.com</td>\n",
       "      <td>31-03-2019</td>\n",
       "      <td>31-03-2019</td>\n",
       "    </tr>\n",
       "    <tr>\n",
       "      <th>150870</th>\n",
       "      <td>U74997TZ2019PTC032491</td>\n",
       "      <td>NROOT TECHNOLOGIES PRIVATE LIMITED</td>\n",
       "      <td>ACTV</td>\n",
       "      <td>Private</td>\n",
       "      <td>Company limited by Shares</td>\n",
       "      <td>Non-govt company</td>\n",
       "      <td>25-07-2019</td>\n",
       "      <td>Tamil Nadu</td>\n",
       "      <td>1500000.0</td>\n",
       "      <td>1100000.0</td>\n",
       "      <td>74997</td>\n",
       "      <td>Real estate renting and business activities</td>\n",
       "      <td>139/1BPUDHUKOTTAI ROAD, MAPILLAI NAYAKKANPATTI</td>\n",
       "      <td>ROC COIMBATORE</td>\n",
       "      <td>nroottechnologies@gmail.com</td>\n",
       "      <td>NaN</td>\n",
       "      <td>NaN</td>\n",
       "    </tr>\n",
       "  </tbody>\n",
       "</table>\n",
       "<p>150871 rows × 17 columns</p>\n",
       "</div>"
      ],
      "text/plain": [
       "       CORPORATE_IDENTIFICATION_NUMBER  \\\n",
       "0                               F00643   \n",
       "1                               F00721   \n",
       "2                               F00892   \n",
       "3                               F01208   \n",
       "4                               F01218   \n",
       "...                                ...   \n",
       "150866           U74997TN2016PTC112556   \n",
       "150867           U74997TN2018PTC121491   \n",
       "150868           U74997TZ2016PTC027802   \n",
       "150869           U74997TZ2018PTC030177   \n",
       "150870           U74997TZ2019PTC032491   \n",
       "\n",
       "                                             COMPANY_NAME COMPANY_STATUS  \\\n",
       "0                                        HOCHTIEFF AG,              NAEF   \n",
       "1       SUMITOMO CORPORATION (SUMITOMO SHOJI KAISHA LI...           ACTV   \n",
       "2                           SRILANKAN AIRLINES LIMITED              ACTV   \n",
       "3                                 CALTEX INDIA LIMITED              NAEF   \n",
       "4                   GE HEALTHCARE BIO-SCIENCES LIMITED              ACTV   \n",
       "...                                                   ...            ...   \n",
       "150866                    QUAD42 MEDIA PRIVATE LIMITED              ACTV   \n",
       "150867                 IYERAATHU FOODS PRIVATE LIMITED              ACTV   \n",
       "150868          POLYGAR FARM SOLUTIONS PRIVATE LIMITED              STOF   \n",
       "150869          PANDIYA AGRI SOLUTIONS PRIVATE LIMITED              ACTV   \n",
       "150870              NROOT TECHNOLOGIES PRIVATE LIMITED              ACTV   \n",
       "\n",
       "       COMPANY_CLASS           COMPANY_CATEGORY COMPANY_SUB_CATEGORY  \\\n",
       "0                NaN                        NaN                  NaN   \n",
       "1                NaN                        NaN                  NaN   \n",
       "2                NaN                        NaN                  NaN   \n",
       "3                NaN                        NaN                  NaN   \n",
       "4                NaN                        NaN                  NaN   \n",
       "...              ...                        ...                  ...   \n",
       "150866       Private  Company limited by Shares     Non-govt company   \n",
       "150867       Private  Company limited by Shares     Non-govt company   \n",
       "150868       Private  Company limited by Shares     Non-govt company   \n",
       "150869       Private  Company limited by Shares     Non-govt company   \n",
       "150870       Private  Company limited by Shares     Non-govt company   \n",
       "\n",
       "       DATE_OF_REGISTRATION REGISTERED_STATE  AUTHORIZED_CAP  PAIDUP_CAPITAL  \\\n",
       "0                01-12-1961       Tamil Nadu             0.0             0.0   \n",
       "1                       NaN       Tamil Nadu             0.0             0.0   \n",
       "2                01-03-1982       Tamil Nadu             0.0             0.0   \n",
       "3                       NaN       Tamil Nadu             0.0             0.0   \n",
       "4                       NaN       Tamil Nadu             0.0             0.0   \n",
       "...                     ...              ...             ...             ...   \n",
       "150866           19-09-2016       Tamil Nadu       1000000.0        100000.0   \n",
       "150867           16-03-2018       Tamil Nadu        100000.0        100000.0   \n",
       "150868           20-07-2016       Tamil Nadu        100000.0         20000.0   \n",
       "150869           16-03-2018       Tamil Nadu       2500000.0       1500000.0   \n",
       "150870           25-07-2019       Tamil Nadu       1500000.0       1100000.0   \n",
       "\n",
       "       INDUSTRIAL_CLASS       PRINCIPAL_BUSINESS_ACTIVITY_AS_PER_CIN  \\\n",
       "0                   NaN                         Agriculture & allied   \n",
       "1                   NaN                         Agriculture & allied   \n",
       "2                   NaN                         Agriculture & allied   \n",
       "3                   NaN                         Agriculture & allied   \n",
       "4                   NaN                         Agriculture & allied   \n",
       "...                 ...                                          ...   \n",
       "150866            74997  Real estate renting and business activities   \n",
       "150867            74997  Real estate renting and business activities   \n",
       "150868            74997  Real estate renting and business activities   \n",
       "150869            74997  Real estate renting and business activities   \n",
       "150870            74997  Real estate renting and business activities   \n",
       "\n",
       "                                REGISTERED_OFFICE_ADDRESS  \\\n",
       "0       AMBLE SIDE, NO.8(OLD NO.30),3RD FLOOR KHADER N...   \n",
       "1       FLAT NO. 6, 1st FLOOR, 113/113ARAMA NAICKEN ST...   \n",
       "2       SRILANKAN AIRLINES LIMITED, VIJAYA TOWERSNO-4,...   \n",
       "3              GOLD CREST 24 55 NORTHUSMAN ROAD T NAGAR     \n",
       "4        FF-3 Palani  Centre32 Venkat Naryan Road Nagar     \n",
       "...                                                   ...   \n",
       "150866      Old No.37, New No.5753rd Street, 9th Avenue     \n",
       "150867  G-3, G-Block, AKS Garden,11/1, 2nd Street Rama...   \n",
       "150868             31, LIC Colony (VOC Colony),Kurichi,     \n",
       "150869  10/10 C3, Venkatasamy StreetRailyway Mens Colo...   \n",
       "150870   139/1BPUDHUKOTTAI ROAD, MAPILLAI NAYAKKANPATTI     \n",
       "\n",
       "       REGISTRAR_OF_COMPANIES                   EMAIL_ADDR  \\\n",
       "0                   ROC DELHI                          NaN   \n",
       "1                   ROC DELHI           shuchi.chug@asa.in   \n",
       "2                   ROC DELHI          shree16us@yahoo.com   \n",
       "3                   ROC DELHI                          NaN   \n",
       "4                   ROC DELHI       karthick9999@yahoo.com   \n",
       "...                       ...                          ...   \n",
       "150866            ROC CHENNAI             ezhil@quad42.com   \n",
       "150867            ROC CHENNAI     sneha.creative@gmail.com   \n",
       "150868         ROC COIMBATORE    prashanthramana@gmail.com   \n",
       "150869         ROC COIMBATORE     sathishpandiya@gmail.com   \n",
       "150870         ROC COIMBATORE  nroottechnologies@gmail.com   \n",
       "\n",
       "       LATEST_YEAR_ANNUAL_RETURN LATEST_YEAR_FINANCIAL_STATEMENT  \n",
       "0                            NaN                             NaN  \n",
       "1                            NaN                             NaN  \n",
       "2                            NaN                             NaN  \n",
       "3                            NaN                             NaN  \n",
       "4                            NaN                             NaN  \n",
       "...                          ...                             ...  \n",
       "150866                31-03-2019                      31-03-2019  \n",
       "150867                       NaN                             NaN  \n",
       "150868                       NaN                             NaN  \n",
       "150869                31-03-2019                      31-03-2019  \n",
       "150870                       NaN                             NaN  \n",
       "\n",
       "[150871 rows x 17 columns]"
      ]
     },
     "execution_count": 5,
     "metadata": {},
     "output_type": "execute_result"
    }
   ],
   "source": [
    "dd.drop_duplicates()"
   ]
  },
  {
   "cell_type": "markdown",
   "id": "98a1172b-e38d-4ee2-8d27-583f594337d5",
   "metadata": {},
   "source": [
    "## drop_duplicates() - removes duplicate rows in the dataset"
   ]
  },
  {
   "cell_type": "code",
   "execution_count": 6,
   "id": "ac54b598-4a3f-429f-bcb4-4f8f45567392",
   "metadata": {},
   "outputs": [],
   "source": [
    "dd.dropna(inplace=True)"
   ]
  },
  {
   "cell_type": "markdown",
   "id": "2f9244da-20eb-471c-9cef-02700c176f93",
   "metadata": {},
   "source": [
    "## dropna() - Removes rows which contain null value"
   ]
  },
  {
   "cell_type": "code",
   "execution_count": 7,
   "id": "564b2b57-2727-48b4-8abb-63bd1547622d",
   "metadata": {},
   "outputs": [],
   "source": [
    "dd['COMPANY_NAME']=dd['COMPANY_NAME'].str.lower()"
   ]
  },
  {
   "cell_type": "markdown",
   "id": "248f1015-66f7-4898-9ee5-48226f01d619",
   "metadata": {},
   "source": [
    "## All values in 'COMPANY_NAME' is changed into lowercase"
   ]
  },
  {
   "cell_type": "code",
   "execution_count": 8,
   "id": "f9997273-ca3e-4493-9d9a-e0e0e6e8cba0",
   "metadata": {},
   "outputs": [
    {
     "name": "stderr",
     "output_type": "stream",
     "text": [
      "C:\\Users\\Riaz\\AppData\\Local\\Temp\\ipykernel_17016\\3927820756.py:1: UserWarning: Parsing dates in %d-%m-%Y format when dayfirst=False (the default) was specified. Pass `dayfirst=True` or specify a format to silence this warning.\n",
      "  dd['DATE_OF_REGISTRATION']=df.to_datetime(dd['DATE_OF_REGISTRATION'])\n"
     ]
    }
   ],
   "source": [
    "dd['DATE_OF_REGISTRATION']=df.to_datetime(dd['DATE_OF_REGISTRATION'])"
   ]
  },
  {
   "cell_type": "markdown",
   "id": "481baf8f-9156-4ca0-a3dc-a1280a714e28",
   "metadata": {},
   "source": [
    "## Convert string Date to Python Date time object "
   ]
  },
  {
   "cell_type": "code",
   "execution_count": 9,
   "id": "b80310c1-e341-4c70-8bfa-1de18e98185e",
   "metadata": {},
   "outputs": [],
   "source": [
    "dd1=dd.set_index('DATE_OF_REGISTRATION')"
   ]
  },
  {
   "cell_type": "markdown",
   "id": "bc727c5f-ded8-4251-bdcd-b21ad3424dcd",
   "metadata": {},
   "source": [
    "## Index is set"
   ]
  },
  {
   "cell_type": "code",
   "execution_count": 10,
   "id": "f4752cf6-3d19-424e-83a4-08ebaaf2544f",
   "metadata": {},
   "outputs": [],
   "source": [
    "numeric_columns=dd1.select_dtypes(include=['number'])"
   ]
  },
  {
   "cell_type": "markdown",
   "id": "07012ee6-364b-47ae-8907-fbf512359a94",
   "metadata": {},
   "source": [
    "## Returns the new dataframe that includes the column 'number'"
   ]
  },
  {
   "cell_type": "code",
   "execution_count": 11,
   "id": "92ec05eb-13a8-400e-a767-34b887aeb1f2",
   "metadata": {},
   "outputs": [],
   "source": [
    "dd_resampled=numeric_columns.resample('M').mean()"
   ]
  },
  {
   "cell_type": "markdown",
   "id": "e3ccfc27-7c38-4008-91eb-eefca711734a",
   "metadata": {},
   "source": [
    "## Data is resampled based on month frequency"
   ]
  },
  {
   "cell_type": "code",
   "execution_count": 12,
   "id": "d9cbf38b-54ec-411c-8657-3b0e609cd18a",
   "metadata": {},
   "outputs": [
    {
     "data": {
      "text/html": [
       "<div>\n",
       "<style scoped>\n",
       "    .dataframe tbody tr th:only-of-type {\n",
       "        vertical-align: middle;\n",
       "    }\n",
       "\n",
       "    .dataframe tbody tr th {\n",
       "        vertical-align: top;\n",
       "    }\n",
       "\n",
       "    .dataframe thead th {\n",
       "        text-align: right;\n",
       "    }\n",
       "</style>\n",
       "<table border=\"1\" class=\"dataframe\">\n",
       "  <thead>\n",
       "    <tr style=\"text-align: right;\">\n",
       "      <th></th>\n",
       "      <th>CORPORATE_IDENTIFICATION_NUMBER</th>\n",
       "      <th>COMPANY_NAME</th>\n",
       "      <th>COMPANY_STATUS</th>\n",
       "      <th>COMPANY_CLASS</th>\n",
       "      <th>COMPANY_CATEGORY</th>\n",
       "      <th>COMPANY_SUB_CATEGORY</th>\n",
       "      <th>DATE_OF_REGISTRATION</th>\n",
       "      <th>REGISTERED_STATE</th>\n",
       "      <th>AUTHORIZED_CAP</th>\n",
       "      <th>PAIDUP_CAPITAL</th>\n",
       "      <th>INDUSTRIAL_CLASS</th>\n",
       "      <th>PRINCIPAL_BUSINESS_ACTIVITY_AS_PER_CIN</th>\n",
       "      <th>REGISTERED_OFFICE_ADDRESS</th>\n",
       "      <th>REGISTRAR_OF_COMPANIES</th>\n",
       "      <th>EMAIL_ADDR</th>\n",
       "      <th>LATEST_YEAR_ANNUAL_RETURN</th>\n",
       "      <th>LATEST_YEAR_FINANCIAL_STATEMENT</th>\n",
       "    </tr>\n",
       "  </thead>\n",
       "  <tbody>\n",
       "    <tr>\n",
       "      <th>310</th>\n",
       "      <td>L01117TZ1943PLC000117</td>\n",
       "      <td>neelamalai agro industries limited</td>\n",
       "      <td>ACTV</td>\n",
       "      <td>Public</td>\n",
       "      <td>Company limited by Shares</td>\n",
       "      <td>Non-govt company</td>\n",
       "      <td>1943-04-21</td>\n",
       "      <td>Tamil Nadu</td>\n",
       "      <td>1.250000e+07</td>\n",
       "      <td>6273500.0</td>\n",
       "      <td>01117</td>\n",
       "      <td>Agriculture &amp; allied</td>\n",
       "      <td>KATARY ESTATEKATARY POSTCOONOOR</td>\n",
       "      <td>ROC COIMBATORE</td>\n",
       "      <td>secneelamalai@avtplantations.co.in</td>\n",
       "      <td>31-03-2019</td>\n",
       "      <td>31-03-2019</td>\n",
       "    </tr>\n",
       "    <tr>\n",
       "      <th>311</th>\n",
       "      <td>L01119TN1986PLC013473</td>\n",
       "      <td>aban offshore limited</td>\n",
       "      <td>ACTV</td>\n",
       "      <td>Public</td>\n",
       "      <td>Company limited by Shares</td>\n",
       "      <td>Non-govt company</td>\n",
       "      <td>1986-09-25</td>\n",
       "      <td>Tamil Nadu</td>\n",
       "      <td>1.500000e+10</td>\n",
       "      <td>116730000.0</td>\n",
       "      <td>01119</td>\n",
       "      <td>Agriculture &amp; allied</td>\n",
       "      <td>'JANPRIYA CREST'96, PANTHEON ROAD,EGMORE</td>\n",
       "      <td>ROC CHENNAI</td>\n",
       "      <td>secretarial@aban.com</td>\n",
       "      <td>31-03-2019</td>\n",
       "      <td>31-03-2019</td>\n",
       "    </tr>\n",
       "    <tr>\n",
       "      <th>313</th>\n",
       "      <td>L01119TN1992PLC024076</td>\n",
       "      <td>softech infinium solutions limited</td>\n",
       "      <td>ACTV</td>\n",
       "      <td>Public</td>\n",
       "      <td>Company limited by Shares</td>\n",
       "      <td>Non-govt company</td>\n",
       "      <td>1992-12-21</td>\n",
       "      <td>Tamil Nadu</td>\n",
       "      <td>1.500000e+08</td>\n",
       "      <td>40000000.0</td>\n",
       "      <td>01119</td>\n",
       "      <td>Agriculture &amp; allied</td>\n",
       "      <td>29, PRECISION PLAZA, NEW 397, ANNA SALAITEYNAM...</td>\n",
       "      <td>ROC CHENNAI</td>\n",
       "      <td>complianceofficer@softechinfinium.com</td>\n",
       "      <td>31-03-2018</td>\n",
       "      <td>31-03-2018</td>\n",
       "    </tr>\n",
       "    <tr>\n",
       "      <th>315</th>\n",
       "      <td>L01122TZ1995PLC010762</td>\n",
       "      <td>pochiraju industries limited</td>\n",
       "      <td>ACTV</td>\n",
       "      <td>Public</td>\n",
       "      <td>Company limited by Shares</td>\n",
       "      <td>Non-govt company</td>\n",
       "      <td>1995-05-04</td>\n",
       "      <td>Tamil Nadu</td>\n",
       "      <td>2.500000e+08</td>\n",
       "      <td>189066750.0</td>\n",
       "      <td>01122</td>\n",
       "      <td>Agriculture &amp; allied</td>\n",
       "      <td>1/102 SATHYAMANGALAM VILLAGEHOSUR TALUK</td>\n",
       "      <td>ROC COIMBATORE</td>\n",
       "      <td>mmreddyandco@gmail.com</td>\n",
       "      <td>31-03-2019</td>\n",
       "      <td>31-03-2019</td>\n",
       "    </tr>\n",
       "    <tr>\n",
       "      <th>318</th>\n",
       "      <td>L01132TZ1922PLC000234</td>\n",
       "      <td>the united nilgiri tea estates companylimited</td>\n",
       "      <td>ACTV</td>\n",
       "      <td>Public</td>\n",
       "      <td>Company limited by Shares</td>\n",
       "      <td>Non-govt company</td>\n",
       "      <td>1922-08-09</td>\n",
       "      <td>Tamil Nadu</td>\n",
       "      <td>5.000000e+07</td>\n",
       "      <td>49965660.0</td>\n",
       "      <td>01132</td>\n",
       "      <td>Agriculture &amp; allied</td>\n",
       "      <td>3 SAVITHRI SHANMUGHAM ROADRACE COURSE</td>\n",
       "      <td>ROC COIMBATORE</td>\n",
       "      <td>headoffice@chamrajtea.com</td>\n",
       "      <td>31-03-2019</td>\n",
       "      <td>31-03-2019</td>\n",
       "    </tr>\n",
       "    <tr>\n",
       "      <th>...</th>\n",
       "      <td>...</td>\n",
       "      <td>...</td>\n",
       "      <td>...</td>\n",
       "      <td>...</td>\n",
       "      <td>...</td>\n",
       "      <td>...</td>\n",
       "      <td>...</td>\n",
       "      <td>...</td>\n",
       "      <td>...</td>\n",
       "      <td>...</td>\n",
       "      <td>...</td>\n",
       "      <td>...</td>\n",
       "      <td>...</td>\n",
       "      <td>...</td>\n",
       "      <td>...</td>\n",
       "      <td>...</td>\n",
       "      <td>...</td>\n",
       "    </tr>\n",
       "    <tr>\n",
       "      <th>150862</th>\n",
       "      <td>U74997TN2016PTC112105</td>\n",
       "      <td>mrkr communications private limited</td>\n",
       "      <td>ACTV</td>\n",
       "      <td>Private</td>\n",
       "      <td>Company limited by Shares</td>\n",
       "      <td>Non-govt company</td>\n",
       "      <td>2016-08-22</td>\n",
       "      <td>Tamil Nadu</td>\n",
       "      <td>1.000000e+05</td>\n",
       "      <td>100000.0</td>\n",
       "      <td>74997</td>\n",
       "      <td>Real estate renting and business activities</td>\n",
       "      <td>11C,AASARI STREET,THALLAKULAM11C,AASARI STREET...</td>\n",
       "      <td>ROC CHENNAI</td>\n",
       "      <td>RKRPRIYAN@GMAIL.COM</td>\n",
       "      <td>31-03-2019</td>\n",
       "      <td>31-03-2019</td>\n",
       "    </tr>\n",
       "    <tr>\n",
       "      <th>150864</th>\n",
       "      <td>U74997TN2016PTC112257</td>\n",
       "      <td>ethnicindian fashion retail privatelimited</td>\n",
       "      <td>ACTV</td>\n",
       "      <td>Private</td>\n",
       "      <td>Company limited by Shares</td>\n",
       "      <td>Non-govt company</td>\n",
       "      <td>2016-08-30</td>\n",
       "      <td>Tamil Nadu</td>\n",
       "      <td>1.000000e+06</td>\n",
       "      <td>1000000.0</td>\n",
       "      <td>74997</td>\n",
       "      <td>Real estate renting and business activities</td>\n",
       "      <td>VNR Milford, Flat 117, First FloorA Block, Mil...</td>\n",
       "      <td>ROC CHENNAI</td>\n",
       "      <td>ALEX.CHANDRAN@GMAIL.COM</td>\n",
       "      <td>31-03-2019</td>\n",
       "      <td>31-03-2019</td>\n",
       "    </tr>\n",
       "    <tr>\n",
       "      <th>150865</th>\n",
       "      <td>U74997TN2016PTC112312</td>\n",
       "      <td>savidya education private limited</td>\n",
       "      <td>ACTV</td>\n",
       "      <td>Private</td>\n",
       "      <td>Company limited by Shares</td>\n",
       "      <td>Non-govt company</td>\n",
       "      <td>2016-09-01</td>\n",
       "      <td>Tamil Nadu</td>\n",
       "      <td>1.000000e+06</td>\n",
       "      <td>100000.0</td>\n",
       "      <td>74997</td>\n",
       "      <td>Real estate renting and business activities</td>\n",
       "      <td>Mahalakshmi Mansion, 29/4 FirstMain Road ,Gand...</td>\n",
       "      <td>ROC CHENNAI</td>\n",
       "      <td>sridevis77@yahoo.com</td>\n",
       "      <td>31-03-2019</td>\n",
       "      <td>31-03-2019</td>\n",
       "    </tr>\n",
       "    <tr>\n",
       "      <th>150866</th>\n",
       "      <td>U74997TN2016PTC112556</td>\n",
       "      <td>quad42 media private limited</td>\n",
       "      <td>ACTV</td>\n",
       "      <td>Private</td>\n",
       "      <td>Company limited by Shares</td>\n",
       "      <td>Non-govt company</td>\n",
       "      <td>2016-09-19</td>\n",
       "      <td>Tamil Nadu</td>\n",
       "      <td>1.000000e+06</td>\n",
       "      <td>100000.0</td>\n",
       "      <td>74997</td>\n",
       "      <td>Real estate renting and business activities</td>\n",
       "      <td>Old No.37, New No.5753rd Street, 9th Avenue</td>\n",
       "      <td>ROC CHENNAI</td>\n",
       "      <td>ezhil@quad42.com</td>\n",
       "      <td>31-03-2019</td>\n",
       "      <td>31-03-2019</td>\n",
       "    </tr>\n",
       "    <tr>\n",
       "      <th>150869</th>\n",
       "      <td>U74997TZ2018PTC030177</td>\n",
       "      <td>pandiya agri solutions private limited</td>\n",
       "      <td>ACTV</td>\n",
       "      <td>Private</td>\n",
       "      <td>Company limited by Shares</td>\n",
       "      <td>Non-govt company</td>\n",
       "      <td>2018-03-16</td>\n",
       "      <td>Tamil Nadu</td>\n",
       "      <td>2.500000e+06</td>\n",
       "      <td>1500000.0</td>\n",
       "      <td>74997</td>\n",
       "      <td>Real estate renting and business activities</td>\n",
       "      <td>10/10 C3, Venkatasamy StreetRailyway Mens Colo...</td>\n",
       "      <td>ROC COIMBATORE</td>\n",
       "      <td>sathishpandiya@gmail.com</td>\n",
       "      <td>31-03-2019</td>\n",
       "      <td>31-03-2019</td>\n",
       "    </tr>\n",
       "  </tbody>\n",
       "</table>\n",
       "<p>73739 rows × 17 columns</p>\n",
       "</div>"
      ],
      "text/plain": [
       "       CORPORATE_IDENTIFICATION_NUMBER  \\\n",
       "310              L01117TZ1943PLC000117   \n",
       "311              L01119TN1986PLC013473   \n",
       "313              L01119TN1992PLC024076   \n",
       "315              L01122TZ1995PLC010762   \n",
       "318              L01132TZ1922PLC000234   \n",
       "...                                ...   \n",
       "150862           U74997TN2016PTC112105   \n",
       "150864           U74997TN2016PTC112257   \n",
       "150865           U74997TN2016PTC112312   \n",
       "150866           U74997TN2016PTC112556   \n",
       "150869           U74997TZ2018PTC030177   \n",
       "\n",
       "                                           COMPANY_NAME COMPANY_STATUS  \\\n",
       "310               neelamalai agro industries limited              ACTV   \n",
       "311                            aban offshore limited              ACTV   \n",
       "313               softech infinium solutions limited              ACTV   \n",
       "315                     pochiraju industries limited              ACTV   \n",
       "318     the united nilgiri tea estates companylimited             ACTV   \n",
       "...                                                 ...            ...   \n",
       "150862           mrkr communications private limited              ACTV   \n",
       "150864     ethnicindian fashion retail privatelimited             ACTV   \n",
       "150865             savidya education private limited              ACTV   \n",
       "150866                  quad42 media private limited              ACTV   \n",
       "150869        pandiya agri solutions private limited              ACTV   \n",
       "\n",
       "       COMPANY_CLASS           COMPANY_CATEGORY COMPANY_SUB_CATEGORY  \\\n",
       "310           Public  Company limited by Shares     Non-govt company   \n",
       "311           Public  Company limited by Shares     Non-govt company   \n",
       "313           Public  Company limited by Shares     Non-govt company   \n",
       "315           Public  Company limited by Shares     Non-govt company   \n",
       "318           Public  Company limited by Shares     Non-govt company   \n",
       "...              ...                        ...                  ...   \n",
       "150862       Private  Company limited by Shares     Non-govt company   \n",
       "150864       Private  Company limited by Shares     Non-govt company   \n",
       "150865       Private  Company limited by Shares     Non-govt company   \n",
       "150866       Private  Company limited by Shares     Non-govt company   \n",
       "150869       Private  Company limited by Shares     Non-govt company   \n",
       "\n",
       "       DATE_OF_REGISTRATION REGISTERED_STATE  AUTHORIZED_CAP  PAIDUP_CAPITAL  \\\n",
       "310              1943-04-21       Tamil Nadu    1.250000e+07       6273500.0   \n",
       "311              1986-09-25       Tamil Nadu    1.500000e+10     116730000.0   \n",
       "313              1992-12-21       Tamil Nadu    1.500000e+08      40000000.0   \n",
       "315              1995-05-04       Tamil Nadu    2.500000e+08     189066750.0   \n",
       "318              1922-08-09       Tamil Nadu    5.000000e+07      49965660.0   \n",
       "...                     ...              ...             ...             ...   \n",
       "150862           2016-08-22       Tamil Nadu    1.000000e+05        100000.0   \n",
       "150864           2016-08-30       Tamil Nadu    1.000000e+06       1000000.0   \n",
       "150865           2016-09-01       Tamil Nadu    1.000000e+06        100000.0   \n",
       "150866           2016-09-19       Tamil Nadu    1.000000e+06        100000.0   \n",
       "150869           2018-03-16       Tamil Nadu    2.500000e+06       1500000.0   \n",
       "\n",
       "       INDUSTRIAL_CLASS       PRINCIPAL_BUSINESS_ACTIVITY_AS_PER_CIN  \\\n",
       "310               01117                         Agriculture & allied   \n",
       "311               01119                         Agriculture & allied   \n",
       "313               01119                         Agriculture & allied   \n",
       "315               01122                         Agriculture & allied   \n",
       "318               01132                         Agriculture & allied   \n",
       "...                 ...                                          ...   \n",
       "150862            74997  Real estate renting and business activities   \n",
       "150864            74997  Real estate renting and business activities   \n",
       "150865            74997  Real estate renting and business activities   \n",
       "150866            74997  Real estate renting and business activities   \n",
       "150869            74997  Real estate renting and business activities   \n",
       "\n",
       "                                REGISTERED_OFFICE_ADDRESS  \\\n",
       "310                     KATARY ESTATEKATARY POSTCOONOOR     \n",
       "311            'JANPRIYA CREST'96, PANTHEON ROAD,EGMORE     \n",
       "313     29, PRECISION PLAZA, NEW 397, ANNA SALAITEYNAM...   \n",
       "315             1/102 SATHYAMANGALAM VILLAGEHOSUR TALUK     \n",
       "318               3 SAVITHRI SHANMUGHAM ROADRACE COURSE     \n",
       "...                                                   ...   \n",
       "150862  11C,AASARI STREET,THALLAKULAM11C,AASARI STREET...   \n",
       "150864  VNR Milford, Flat 117, First FloorA Block, Mil...   \n",
       "150865  Mahalakshmi Mansion, 29/4 FirstMain Road ,Gand...   \n",
       "150866      Old No.37, New No.5753rd Street, 9th Avenue     \n",
       "150869  10/10 C3, Venkatasamy StreetRailyway Mens Colo...   \n",
       "\n",
       "       REGISTRAR_OF_COMPANIES                             EMAIL_ADDR  \\\n",
       "310            ROC COIMBATORE     secneelamalai@avtplantations.co.in   \n",
       "311               ROC CHENNAI                   secretarial@aban.com   \n",
       "313               ROC CHENNAI  complianceofficer@softechinfinium.com   \n",
       "315            ROC COIMBATORE                 mmreddyandco@gmail.com   \n",
       "318            ROC COIMBATORE              headoffice@chamrajtea.com   \n",
       "...                       ...                                    ...   \n",
       "150862            ROC CHENNAI                    RKRPRIYAN@GMAIL.COM   \n",
       "150864            ROC CHENNAI                ALEX.CHANDRAN@GMAIL.COM   \n",
       "150865            ROC CHENNAI                   sridevis77@yahoo.com   \n",
       "150866            ROC CHENNAI                       ezhil@quad42.com   \n",
       "150869         ROC COIMBATORE               sathishpandiya@gmail.com   \n",
       "\n",
       "       LATEST_YEAR_ANNUAL_RETURN LATEST_YEAR_FINANCIAL_STATEMENT  \n",
       "310                   31-03-2019                      31-03-2019  \n",
       "311                   31-03-2019                      31-03-2019  \n",
       "313                   31-03-2018                      31-03-2018  \n",
       "315                   31-03-2019                      31-03-2019  \n",
       "318                   31-03-2019                      31-03-2019  \n",
       "...                          ...                             ...  \n",
       "150862                31-03-2019                      31-03-2019  \n",
       "150864                31-03-2019                      31-03-2019  \n",
       "150865                31-03-2019                      31-03-2019  \n",
       "150866                31-03-2019                      31-03-2019  \n",
       "150869                31-03-2019                      31-03-2019  \n",
       "\n",
       "[73739 rows x 17 columns]"
      ]
     },
     "execution_count": 12,
     "metadata": {},
     "output_type": "execute_result"
    }
   ],
   "source": [
    "dd.to_csv('NewCleanedFile.csv',index=False)\n",
    "dd"
   ]
  },
  {
   "cell_type": "markdown",
   "id": "1291f6a1-cc14-462a-988a-629b462c0686",
   "metadata": {},
   "source": [
    "## The cleaned data is stored in new file"
   ]
  },
  {
   "cell_type": "code",
   "execution_count": 13,
   "id": "a96d81ff-01bf-46c0-be01-4402d60aaa00",
   "metadata": {},
   "outputs": [],
   "source": [
    "dd1=df.read_csv(r\"C:\\Users\\Riaz\\Desktop\\jupyternotebook\\NewCleanedFile.csv\")\n"
   ]
  },
  {
   "cell_type": "markdown",
   "id": "487673c5-3a6c-4792-9ad6-88f17c816179",
   "metadata": {},
   "source": [
    "## The cleaned file is saved and read in the given path"
   ]
  },
  {
   "cell_type": "code",
   "execution_count": 14,
   "id": "60859bda-bb69-481f-83a9-104fe453a341",
   "metadata": {},
   "outputs": [
    {
     "name": "stdout",
     "output_type": "stream",
     "text": [
      "Note: you may need to restart the kernel to use updated packages.\n"
     ]
    },
    {
     "name": "stderr",
     "output_type": "stream",
     "text": [
      "ERROR: Could not find a version that satisfies the requirement matplotlib.pyplot (from versions: none)\n",
      "ERROR: No matching distribution found for matplotlib.pyplot\n",
      "\n",
      "[notice] A new release of pip is available: 23.2.1 -> 23.3.1\n",
      "[notice] To update, run: python.exe -m pip install --upgrade pip\n"
     ]
    }
   ],
   "source": [
    "pip install matplotlib.pyplot"
   ]
  },
  {
   "cell_type": "markdown",
   "id": "9cc99ba0-c1a5-4315-b3de-90aa3460e28f",
   "metadata": {},
   "source": [
    "## matplotlib is installed"
   ]
  },
  {
   "cell_type": "code",
   "execution_count": 15,
   "id": "3649cd73-1a80-4d5c-b8e8-6f73c70e4ba3",
   "metadata": {},
   "outputs": [],
   "source": [
    "import matplotlib.pyplot as plt"
   ]
  },
  {
   "cell_type": "markdown",
   "id": "d071e449-8ce8-40f1-9bb5-065accafb70e",
   "metadata": {},
   "source": [
    "## matplotlib is imported as plt"
   ]
  },
  {
   "cell_type": "code",
   "execution_count": 16,
   "id": "c86a52a6-0cff-4848-bdf4-405fad7c7a3b",
   "metadata": {},
   "outputs": [
    {
     "name": "stdout",
     "output_type": "stream",
     "text": [
      "Requirement already satisfied: seaborn in c:\\users\\riaz\\appdata\\local\\programs\\python\\python312\\lib\\site-packages (0.13.0)Note: you may need to restart the kernel to use updated packages.\n"
     ]
    },
    {
     "name": "stderr",
     "output_type": "stream",
     "text": [
      "\n",
      "[notice] A new release of pip is available: 23.2.1 -> 23.3.1\n",
      "[notice] To update, run: python.exe -m pip install --upgrade pip\n"
     ]
    },
    {
     "name": "stdout",
     "output_type": "stream",
     "text": [
      "\n",
      "Requirement already satisfied: numpy!=1.24.0,>=1.20 in c:\\users\\riaz\\appdata\\local\\programs\\python\\python312\\lib\\site-packages (from seaborn) (1.26.0)\n",
      "Requirement already satisfied: pandas>=1.2 in c:\\users\\riaz\\appdata\\local\\programs\\python\\python312\\lib\\site-packages (from seaborn) (2.1.1)\n",
      "Requirement already satisfied: matplotlib!=3.6.1,>=3.3 in c:\\users\\riaz\\appdata\\local\\programs\\python\\python312\\lib\\site-packages (from seaborn) (3.8.0)\n",
      "Requirement already satisfied: contourpy>=1.0.1 in c:\\users\\riaz\\appdata\\local\\programs\\python\\python312\\lib\\site-packages (from matplotlib!=3.6.1,>=3.3->seaborn) (1.1.1)\n",
      "Requirement already satisfied: cycler>=0.10 in c:\\users\\riaz\\appdata\\local\\programs\\python\\python312\\lib\\site-packages (from matplotlib!=3.6.1,>=3.3->seaborn) (0.12.1)\n",
      "Requirement already satisfied: fonttools>=4.22.0 in c:\\users\\riaz\\appdata\\local\\programs\\python\\python312\\lib\\site-packages (from matplotlib!=3.6.1,>=3.3->seaborn) (4.43.1)\n",
      "Requirement already satisfied: kiwisolver>=1.0.1 in c:\\users\\riaz\\appdata\\local\\programs\\python\\python312\\lib\\site-packages (from matplotlib!=3.6.1,>=3.3->seaborn) (1.4.5)\n",
      "Requirement already satisfied: packaging>=20.0 in c:\\users\\riaz\\appdata\\local\\programs\\python\\python312\\lib\\site-packages (from matplotlib!=3.6.1,>=3.3->seaborn) (23.2)\n",
      "Requirement already satisfied: pillow>=6.2.0 in c:\\users\\riaz\\appdata\\local\\programs\\python\\python312\\lib\\site-packages (from matplotlib!=3.6.1,>=3.3->seaborn) (10.0.1)\n",
      "Requirement already satisfied: pyparsing>=2.3.1 in c:\\users\\riaz\\appdata\\local\\programs\\python\\python312\\lib\\site-packages (from matplotlib!=3.6.1,>=3.3->seaborn) (3.1.1)\n",
      "Requirement already satisfied: python-dateutil>=2.7 in c:\\users\\riaz\\appdata\\local\\programs\\python\\python312\\lib\\site-packages (from matplotlib!=3.6.1,>=3.3->seaborn) (2.8.2)\n",
      "Requirement already satisfied: pytz>=2020.1 in c:\\users\\riaz\\appdata\\local\\programs\\python\\python312\\lib\\site-packages (from pandas>=1.2->seaborn) (2023.3.post1)\n",
      "Requirement already satisfied: tzdata>=2022.1 in c:\\users\\riaz\\appdata\\local\\programs\\python\\python312\\lib\\site-packages (from pandas>=1.2->seaborn) (2023.3)\n",
      "Requirement already satisfied: six>=1.5 in c:\\users\\riaz\\appdata\\local\\programs\\python\\python312\\lib\\site-packages (from python-dateutil>=2.7->matplotlib!=3.6.1,>=3.3->seaborn) (1.16.0)\n"
     ]
    }
   ],
   "source": [
    "pip install seaborn"
   ]
  },
  {
   "cell_type": "markdown",
   "id": "cb72eb2b-80f9-419d-b20e-702af26240d5",
   "metadata": {},
   "source": [
    "## seaborn is installed"
   ]
  },
  {
   "cell_type": "code",
   "execution_count": 17,
   "id": "061e324c-da5f-4a46-9c10-e1da05b2ef2f",
   "metadata": {},
   "outputs": [],
   "source": [
    "import seaborn as sns"
   ]
  },
  {
   "cell_type": "markdown",
   "id": "5cc19f2b-d933-486c-8ba2-30afc1d0112e",
   "metadata": {},
   "source": [
    "## seaborn is imported"
   ]
  },
  {
   "cell_type": "code",
   "execution_count": 24,
   "id": "2da07e07-86ae-4b07-8dda-ece108c6f74e",
   "metadata": {},
   "outputs": [
    {
     "data": {
      "image/png": "[encoded data removed]",
      "text/plain": [
       "<Figure size 640x480 with 1 Axes>"
      ]
     },
     "metadata": {},
     "output_type": "display_data"
    }
   ],
   "source": [
    "sns.histplot(dd1['DATE_OF_REGISTRATION'],bins=20,kde=True)\n",
    "plt.title('DATE_OF_REGISTRATION')\n",
    "plt.xlabel('DATE_OF_REGISTRATION')\n",
    "plt.ylabel('Count')\n",
    "plt.show()"
   ]
  },
  {
   "cell_type": "markdown",
   "id": "f82ec4af-1a17-4ff8-b4bb-1343ac766f81",
   "metadata": {},
   "source": [
    "## Histogram is plotted"
   ]
  },
  {
   "cell_type": "code",
   "execution_count": 25,
   "id": "ba4f4bc2-324b-4fc0-b06f-29c318d75ac9",
   "metadata": {},
   "outputs": [
    {
     "data": {
      "text/html": [
       "<div>\n",
       "<style scoped>\n",
       "    .dataframe tbody tr th:only-of-type {\n",
       "        vertical-align: middle;\n",
       "    }\n",
       "\n",
       "    .dataframe tbody tr th {\n",
       "        vertical-align: top;\n",
       "    }\n",
       "\n",
       "    .dataframe thead th {\n",
       "        text-align: right;\n",
       "    }\n",
       "</style>\n",
       "<table border=\"1\" class=\"dataframe\">\n",
       "  <thead>\n",
       "    <tr style=\"text-align: right;\">\n",
       "      <th></th>\n",
       "      <th>AUTHORIZED_CAP</th>\n",
       "      <th>PAIDUP_CAPITAL</th>\n",
       "      <th>INDUSTRIAL_CLASS</th>\n",
       "    </tr>\n",
       "  </thead>\n",
       "  <tbody>\n",
       "    <tr>\n",
       "      <th>count</th>\n",
       "      <td>7.373900e+04</td>\n",
       "      <td>7.373900e+04</td>\n",
       "      <td>73739.000000</td>\n",
       "    </tr>\n",
       "    <tr>\n",
       "      <th>mean</th>\n",
       "      <td>6.893708e+07</td>\n",
       "      <td>4.676698e+07</td>\n",
       "      <td>53227.012382</td>\n",
       "    </tr>\n",
       "    <tr>\n",
       "      <th>std</th>\n",
       "      <td>2.013478e+09</td>\n",
       "      <td>1.533598e+09</td>\n",
       "      <td>23985.340312</td>\n",
       "    </tr>\n",
       "    <tr>\n",
       "      <th>min</th>\n",
       "      <td>0.000000e+00</td>\n",
       "      <td>0.000000e+00</td>\n",
       "      <td>0.000000</td>\n",
       "    </tr>\n",
       "    <tr>\n",
       "      <th>25%</th>\n",
       "      <td>2.000000e+05</td>\n",
       "      <td>1.000000e+05</td>\n",
       "      <td>30007.000000</td>\n",
       "    </tr>\n",
       "    <tr>\n",
       "      <th>50%</th>\n",
       "      <td>1.000000e+06</td>\n",
       "      <td>4.000000e+05</td>\n",
       "      <td>63013.000000</td>\n",
       "    </tr>\n",
       "    <tr>\n",
       "      <th>75%</th>\n",
       "      <td>5.000000e+06</td>\n",
       "      <td>2.740000e+06</td>\n",
       "      <td>73100.000000</td>\n",
       "    </tr>\n",
       "    <tr>\n",
       "      <th>max</th>\n",
       "      <td>3.000000e+11</td>\n",
       "      <td>2.461235e+11</td>\n",
       "      <td>99999.000000</td>\n",
       "    </tr>\n",
       "  </tbody>\n",
       "</table>\n",
       "</div>"
      ],
      "text/plain": [
       "       AUTHORIZED_CAP  PAIDUP_CAPITAL  INDUSTRIAL_CLASS\n",
       "count    7.373900e+04    7.373900e+04      73739.000000\n",
       "mean     6.893708e+07    4.676698e+07      53227.012382\n",
       "std      2.013478e+09    1.533598e+09      23985.340312\n",
       "min      0.000000e+00    0.000000e+00          0.000000\n",
       "25%      2.000000e+05    1.000000e+05      30007.000000\n",
       "50%      1.000000e+06    4.000000e+05      63013.000000\n",
       "75%      5.000000e+06    2.740000e+06      73100.000000\n",
       "max      3.000000e+11    2.461235e+11      99999.000000"
      ]
     },
     "execution_count": 25,
     "metadata": {},
     "output_type": "execute_result"
    }
   ],
   "source": [
    "dd1.describe()"
   ]
  },
  {
   "cell_type": "markdown",
   "id": "77a7ad0a-85ce-4f9a-a230-a50a31c853be",
   "metadata": {},
   "source": [
    "## Data is analysed using describe()"
   ]
  },
  {
   "cell_type": "code",
   "execution_count": 26,
   "id": "4b6e2a8c-cf12-47f6-89fc-e1a02948724c",
   "metadata": {},
   "outputs": [
    {
     "data": {
      "image/png": "[encoded data removed]",
      "text/plain": [
       "<Figure size 600x600 with 1 Axes>"
      ]
     },
     "metadata": {},
     "output_type": "display_data"
    }
   ],
   "source": [
    "\n",
    "\n",
    "\n",
    "category_count=dd1['COMPANY_CLASS'].value_counts()\n",
    "plt.figure(figsize=(6,6))\n",
    "sns.set_palette(\"Set3\")\n",
    "plt.pie(category_count,labels=category_count.index,autopct='%1.1f%%', startangle=140)\n",
    "plt.title(\"Company class distribution\")\n",
    "plt.show()\n"
   ]
  },
  {
   "cell_type": "markdown",
   "id": "faa8cd78-3669-4b19-893b-f6615e530a01",
   "metadata": {},
   "source": [
    "## Pie chart is plotted"
   ]
  },
  {
   "cell_type": "code",
   "execution_count": 27,
   "id": "bef75087-fc1c-468c-89d5-151481932589",
   "metadata": {},
   "outputs": [
    {
     "data": {
      "image/png": "[encoded data removed]",
      "text/plain": [
       "<Figure size 640x480 with 1 Axes>"
      ]
     },
     "metadata": {},
     "output_type": "display_data"
    }
   ],
   "source": [
    "import pandas as df\n",
    "dd1=df.read_csv(r\"C:\\Users\\Riaz\\Desktop\\jupyternotebook\\NewCleanedFile.csv\")\n",
    "import matplotlib.pyplot as plt\n",
    "x=dd1['INDUSTRIAL_CLASS']\n",
    "y=dd1['LATEST_YEAR_ANNUAL_RETURN']\n",
    "dd1\n",
    "plt.plot(x,y,marker='o',linestyle='-',color='b',label='Value series')\n",
    "plt.xlabel('Industrial class')\n",
    "plt.ylabel('latest year annual return')\n",
    "plt.title('Line chart')\n",
    "plt.legend()\n",
    "plt.grid(True)\n",
    "plt.show()"
   ]
  },
  {
   "cell_type": "markdown",
   "id": "61d14eb7-77b2-4a7d-b884-c6aacfd644d9",
   "metadata": {},
   "source": [
    "## Line chart is plotted"
   ]
  },
  {
   "cell_type": "code",
   "execution_count": 28,
   "id": "c85e468d-08e5-4f8d-9f7e-de4f2e1e5b96",
   "metadata": {},
   "outputs": [
    {
     "data": {
      "image/png": "[encoded data removed]",
      "text/plain": [
       "<Figure size 800x600 with 1 Axes>"
      ]
     },
     "metadata": {},
     "output_type": "display_data"
    }
   ],
   "source": [
    "import pandas as df\n",
    "dd1=df.read_csv(r\"C:\\Users\\Riaz\\Desktop\\jupyternotebook\\NewCleanedFile.csv\")\n",
    "import matplotlib.pyplot as plt\n",
    "import seaborn as sns\n",
    "plt.figure(figsize=(8,6))\n",
    "sns.boxplot(data=dd1, x='COMPANY_STATUS', y='AUTHORIZED_CAP')\n",
    "plt.title('Boxplot of Authorized Capital by Company Status')\n",
    "plt.xlabel('Company Status')\n",
    "plt.ylabel('Authorized Capital')\n",
    "plt.xticks(rotation=45)\n",
    "plt.show()"
   ]
  },
  {
   "cell_type": "markdown",
   "id": "5d1b2da5-7ce9-4b66-96fd-b5116aefa39e",
   "metadata": {},
   "source": [
    "## Boxplot is plotted"
   ]
  },
  {
   "cell_type": "code",
   "execution_count": 29,
   "id": "db8faf1f-6e44-405e-ae7b-9a366b270807",
   "metadata": {},
   "outputs": [
    {
     "data": {
      "image/png": "[encoded data removed]",
      "text/plain": [
       "<Figure size 1200x600 with 1 Axes>"
      ]
     },
     "metadata": {},
     "output_type": "display_data"
    }
   ],
   "source": [
    "import pandas as df\n",
    "dd1=df.read_csv(r\"C:\\Users\\Riaz\\Desktop\\jupyternotebook\\NewCleanedFile.csv\")\n",
    "import matplotlib.pyplot as plt\n",
    "import seaborn as sns\n",
    "plt.figure(figsize=(12,6))\n",
    "sns.countplot(data=dd1,  x=\"REGISTRAR_OF_COMPANIES\")\n",
    "plt.title('Distribution of Registrar of Companies')\n",
    "plt.xlabel('Registrar of Companies')\n",
    "plt.ylabel('Count')\n",
    "plt.xticks(rotation=90)\n",
    "plt.show()"
   ]
  },
  {
   "cell_type": "markdown",
   "id": "7bf2867c-2822-44d0-9cd0-bd842c2a0c2f",
   "metadata": {},
   "source": [
    "## Bar chart is plotted"
   ]
  },
  {
   "cell_type": "code",
   "execution_count": 1,
   "id": "018b298b-2a4f-453f-afd3-9217baf71b38",
   "metadata": {},
   "outputs": [
    {
     "name": "stdout",
     "output_type": "stream",
     "text": [
      "Requirement already satisfied: scikit-learn in c:\\users\\riaz\\appdata\\local\\programs\\python\\python312\\lib\\site-packages (1.3.2)\n",
      "Requirement already satisfied: numpy<2.0,>=1.17.3 in c:\\users\\riaz\\appdata\\local\\programs\\python\\python312\\lib\\site-packages (from scikit-learn) (1.26.0)\n",
      "Requirement already satisfied: scipy>=1.5.0 in c:\\users\\riaz\\appdata\\local\\programs\\python\\python312\\lib\\site-packages (from scikit-learn) (1.11.3)\n",
      "Requirement already satisfied: joblib>=1.1.1 in c:\\users\\riaz\\appdata\\local\\programs\\python\\python312\\lib\\site-packages (from scikit-learn) (1.3.2)\n",
      "Requirement already satisfied: threadpoolctl>=2.0.0 in c:\\users\\riaz\\appdata\\local\\programs\\python\\python312\\lib\\site-packages (from scikit-learn) (3.2.0)\n",
      "Note: you may need to restart the kernel to use updated packages.\n"
     ]
    },
    {
     "name": "stderr",
     "output_type": "stream",
     "text": [
      "\n",
      "[notice] A new release of pip is available: 23.2.1 -> 23.3.1\n",
      "[notice] To update, run: python.exe -m pip install --upgrade pip\n"
     ]
    }
   ],
   "source": [
    "pip install -U scikit-learn"
   ]
  },
  {
   "cell_type": "markdown",
   "id": "293b29b2-e321-424b-a5ca-d666aa1c305d",
   "metadata": {},
   "source": [
    "## The machine learning library in python is installed"
   ]
  },
  {
   "cell_type": "code",
   "execution_count": 2,
   "id": "1564a68d-1dea-4590-a837-2e2df8bff7e1",
   "metadata": {},
   "outputs": [],
   "source": [
    "import pandas as pd\n",
    "import numpy as np\n",
    "from sklearn.model_selection import train_test_split\n",
    "from sklearn.ensemble import RandomForestClassifier\n",
    "from sklearn.metrics import accuracy_score, classification_report, confusion_matrix\n",
    "from sklearn.preprocessing import LabelEncoder"
   ]
  },
  {
   "cell_type": "markdown",
   "id": "ec0ff81a-8309-44d0-9a74-e48a858eca0b",
   "metadata": {},
   "source": [
    "## Libraries are imported"
   ]
  },
  {
   "cell_type": "code",
   "execution_count": 4,
   "id": "c975c417-623f-47d7-a992-bd664e790b98",
   "metadata": {},
   "outputs": [],
   "source": [
    "dd1=pd.read_csv(r\"C:\\Users\\Riaz\\Desktop\\jupyternotebook\\NewCleanedFile.csv\")"
   ]
  },
  {
   "cell_type": "markdown",
   "id": "bcc7195a-a2b9-47c2-80a8-f90891fbdcdc",
   "metadata": {},
   "source": [
    "## Dataset is stored and read"
   ]
  },
  {
   "cell_type": "code",
   "execution_count": 5,
   "id": "a1e8dad0-261a-4512-bf35-a162200ee861",
   "metadata": {},
   "outputs": [],
   "source": [
    "non_numeric_cols = dd1.select_dtypes(exclude=[np.number]).columns"
   ]
  },
  {
   "cell_type": "markdown",
   "id": "cd31335f-5a65-411d-ab6b-30c3ab4da2aa",
   "metadata": {},
   "source": [
    "## Selects columns of non-numeric datatype"
   ]
  },
  {
   "cell_type": "code",
   "execution_count": 6,
   "id": "19b15190-a451-4832-9eb0-7689ed46cb15",
   "metadata": {},
   "outputs": [],
   "source": [
    "label_encoder = LabelEncoder()\n",
    "dd1_encoded = dd1.copy()"
   ]
  },
  {
   "cell_type": "markdown",
   "id": "4daa3268-6b37-4b91-a1da-3c62a3ff4490",
   "metadata": {},
   "source": [
    "## Instance of label encoder is created and copy of the dataset is created"
   ]
  },
  {
   "cell_type": "code",
   "execution_count": 7,
   "id": "b9eba9e5-7b49-49e7-9e48-40ee5e85aefb",
   "metadata": {},
   "outputs": [],
   "source": [
    "for col in non_numeric_cols:\n",
    "    dd1_encoded[col] = label_encoder.fit_transform(dd1[col])"
   ]
  },
  {
   "cell_type": "markdown",
   "id": "0d4cff72-d0f5-441d-8cae-12cabcb9323f",
   "metadata": {},
   "source": [
    "## Iteration starts and the non-numeric columns are transformed to numeric values"
   ]
  },
  {
   "cell_type": "code",
   "execution_count": 8,
   "id": "48a13ed0-6ea0-4b55-8f2a-9313a3a06c1c",
   "metadata": {},
   "outputs": [],
   "source": [
    "X = dd1_encoded.drop(['COMPANY_CLASS'], axis=1)\n",
    "y = dd1_encoded['COMPANY_CLASS']"
   ]
  },
  {
   "cell_type": "markdown",
   "id": "65f12506-e9ec-4a09-a2d6-bc13c93cde9f",
   "metadata": {},
   "source": [
    "## X contains the input feature and y contains the target variable"
   ]
  },
  {
   "cell_type": "code",
   "execution_count": 9,
   "id": "07aca7f3-e1ae-4c34-a9d3-9a4d3658e939",
   "metadata": {},
   "outputs": [],
   "source": [
    "X_train, X_test, y_train, y_test = train_test_split(X, y, test_size=0.2, random_state=42)"
   ]
  },
  {
   "cell_type": "markdown",
   "id": "4f93f9ab-0f8e-4149-9170-683a1ce25b51",
   "metadata": {},
   "source": [
    "## Splitting of data into training and testing sets"
   ]
  },
  {
   "cell_type": "code",
   "execution_count": 10,
   "id": "8bb369ea-d397-4980-94da-248bd9648546",
   "metadata": {},
   "outputs": [],
   "source": [
    "rf_classifier = RandomForestClassifier(n_estimators=100, random_state=42)"
   ]
  },
  {
   "cell_type": "markdown",
   "id": "c2a3a65b-9d87-4aae-a17f-267292d7c44f",
   "metadata": {},
   "source": [
    "## Initializing RandomForestClassifier"
   ]
  },
  {
   "cell_type": "code",
   "execution_count": 11,
   "id": "ba000563-62ef-44d8-8260-487a2199aadf",
   "metadata": {},
   "outputs": [
    {
     "data": {
      "text/html": [
       "<style>#sk-container-id-1 {color: black;}#sk-container-id-1 pre{padding: 0;}#sk-container-id-1 div.sk-toggleable {background-color: white;}#sk-container-id-1 label.sk-toggleable__label {cursor: pointer;display: block;width: 100%;margin-bottom: 0;padding: 0.3em;box-sizing: border-box;text-align: center;}#sk-container-id-1 label.sk-toggleable__label-arrow:before {content: \"▸\";float: left;margin-right: 0.25em;color: #696969;}#sk-container-id-1 label.sk-toggleable__label-arrow:hover:before {color: black;}#sk-container-id-1 div.sk-estimator:hover label.sk-toggleable__label-arrow:before {color: black;}#sk-container-id-1 div.sk-toggleable__content {max-height: 0;max-width: 0;overflow: hidden;text-align: left;background-color: #f0f8ff;}#sk-container-id-1 div.sk-toggleable__content pre {margin: 0.2em;color: black;border-radius: 0.25em;background-color: #f0f8ff;}#sk-container-id-1 input.sk-toggleable__control:checked~div.sk-toggleable__content {max-height: 200px;max-width: 100%;overflow: auto;}#sk-container-id-1 input.sk-toggleable__control:checked~label.sk-toggleable__label-arrow:before {content: \"▾\";}#sk-container-id-1 div.sk-estimator input.sk-toggleable__control:checked~label.sk-toggleable__label {background-color: #d4ebff;}#sk-container-id-1 div.sk-label input.sk-toggleable__control:checked~label.sk-toggleable__label {background-color: #d4ebff;}#sk-container-id-1 input.sk-hidden--visually {border: 0;clip: rect(1px 1px 1px 1px);clip: rect(1px, 1px, 1px, 1px);height: 1px;margin: -1px;overflow: hidden;padding: 0;position: absolute;width: 1px;}#sk-container-id-1 div.sk-estimator {font-family: monospace;background-color: #f0f8ff;border: 1px dotted black;border-radius: 0.25em;box-sizing: border-box;margin-bottom: 0.5em;}#sk-container-id-1 div.sk-estimator:hover {background-color: #d4ebff;}#sk-container-id-1 div.sk-parallel-item::after {content: \"\";width: 100%;border-bottom: 1px solid gray;flex-grow: 1;}#sk-container-id-1 div.sk-label:hover label.sk-toggleable__label {background-color: #d4ebff;}#sk-container-id-1 div.sk-serial::before {content: \"\";position: absolute;border-left: 1px solid gray;box-sizing: border-box;top: 0;bottom: 0;left: 50%;z-index: 0;}#sk-container-id-1 div.sk-serial {display: flex;flex-direction: column;align-items: center;background-color: white;padding-right: 0.2em;padding-left: 0.2em;position: relative;}#sk-container-id-1 div.sk-item {position: relative;z-index: 1;}#sk-container-id-1 div.sk-parallel {display: flex;align-items: stretch;justify-content: center;background-color: white;position: relative;}#sk-container-id-1 div.sk-item::before, #sk-container-id-1 div.sk-parallel-item::before {content: \"\";position: absolute;border-left: 1px solid gray;box-sizing: border-box;top: 0;bottom: 0;left: 50%;z-index: -1;}#sk-container-id-1 div.sk-parallel-item {display: flex;flex-direction: column;z-index: 1;position: relative;background-color: white;}#sk-container-id-1 div.sk-parallel-item:first-child::after {align-self: flex-end;width: 50%;}#sk-container-id-1 div.sk-parallel-item:last-child::after {align-self: flex-start;width: 50%;}#sk-container-id-1 div.sk-parallel-item:only-child::after {width: 0;}#sk-container-id-1 div.sk-dashed-wrapped {border: 1px dashed gray;margin: 0 0.4em 0.5em 0.4em;box-sizing: border-box;padding-bottom: 0.4em;background-color: white;}#sk-container-id-1 div.sk-label label {font-family: monospace;font-weight: bold;display: inline-block;line-height: 1.2em;}#sk-container-id-1 div.sk-label-container {text-align: center;}#sk-container-id-1 div.sk-container {/* jupyter's `normalize.less` sets `[hidden] { display: none; }` but bootstrap.min.css set `[hidden] { display: none !important; }` so we also need the `!important` here to be able to override the default hidden behavior on the sphinx rendered scikit-learn.org. See: https://github.com/scikit-learn/scikit-learn/issues/21755 */display: inline-block !important;position: relative;}#sk-container-id-1 div.sk-text-repr-fallback {display: none;}</style><div id=\"sk-container-id-1\" class=\"sk-top-container\"><div class=\"sk-text-repr-fallback\"><pre>RandomForestClassifier(random_state=42)</pre><b>In a Jupyter environment, please rerun this cell to show the HTML representation or trust the notebook. <br />On GitHub, the HTML representation is unable to render, please try loading this page with nbviewer.org.</b></div><div class=\"sk-container\" hidden><div class=\"sk-item\"><div class=\"sk-estimator sk-toggleable\"><input class=\"sk-toggleable__control sk-hidden--visually\" id=\"sk-estimator-id-1\" type=\"checkbox\" checked><label for=\"sk-estimator-id-1\" class=\"sk-toggleable__label sk-toggleable__label-arrow\">RandomForestClassifier</label><div class=\"sk-toggleable__content\"><pre>RandomForestClassifier(random_state=42)</pre></div></div></div></div></div>"
      ],
      "text/plain": [
       "RandomForestClassifier(random_state=42)"
      ]
     },
     "execution_count": 11,
     "metadata": {},
     "output_type": "execute_result"
    }
   ],
   "source": [
    "rf_classifier.fit(X_train, y_train)"
   ]
  },
  {
   "cell_type": "markdown",
   "id": "edaf22ca-ce4f-49e1-bc61-77936d7251ca",
   "metadata": {},
   "source": [
    "## Trains the RandomForestClassifier"
   ]
  },
  {
   "cell_type": "code",
   "execution_count": 12,
   "id": "fa4e4c14-b0e2-4050-8e53-f29572598460",
   "metadata": {},
   "outputs": [],
   "source": [
    "y_pred = rf_classifier.predict(X_test)"
   ]
  },
  {
   "cell_type": "markdown",
   "id": "f9106b70-a35c-49b5-b992-c0b310eabaa0",
   "metadata": {},
   "source": [
    "## Predictions are made on test data"
   ]
  },
  {
   "cell_type": "code",
   "execution_count": 13,
   "id": "564b289c-161f-4125-8c04-c3de04d82183",
   "metadata": {},
   "outputs": [],
   "source": [
    "accuracy = accuracy_score(y_test, y_pred)\n",
    "conf_matrix = confusion_matrix(y_test, y_pred)\n",
    "class_report = classification_report(y_test, y_pred)\n"
   ]
  },
  {
   "cell_type": "markdown",
   "id": "a8c86a30-1d80-476d-a367-9272eff874e6",
   "metadata": {},
   "source": [
    "## Accuracy of the model's prediction"
   ]
  },
  {
   "cell_type": "code",
   "execution_count": 14,
   "id": "5f64747e-6766-4a9e-bab0-8f487e5a9ba2",
   "metadata": {},
   "outputs": [
    {
     "name": "stdout",
     "output_type": "stream",
     "text": [
      "Accuracy: 0.9373474369406021\n",
      "Confusion Matrix:\n",
      "[[13436     0   121]\n",
      " [  110    45     0]\n",
      " [  693     0   343]]\n",
      "Classification Report:\n",
      "              precision    recall  f1-score   support\n",
      "\n",
      "           0       0.94      0.99      0.97     13557\n",
      "           1       1.00      0.29      0.45       155\n",
      "           2       0.74      0.33      0.46      1036\n",
      "\n",
      "    accuracy                           0.94     14748\n",
      "   macro avg       0.89      0.54      0.62     14748\n",
      "weighted avg       0.93      0.94      0.93     14748\n",
      "\n"
     ]
    }
   ],
   "source": [
    "print(f'Accuracy: {accuracy}')\n",
    "print('Confusion Matrix:')\n",
    "print(conf_matrix)\n",
    "print('Classification Report:')\n",
    "print(class_report)"
   ]
  },
  {
   "cell_type": "markdown",
   "id": "42304b07-2b30-4b62-aa08-9cb6323d1fdf",
   "metadata": {},
   "source": [
    "## Prints the accuracy,confusion matrix,classification report"
   ]
  },
  {
   "cell_type": "code",
   "execution_count": 15,
   "id": "69d91f25-7f25-4ca8-800e-66b6ea4c8afd",
   "metadata": {},
   "outputs": [
    {
     "name": "stdout",
     "output_type": "stream",
     "text": [
      "Accuracy: 93.73%\n"
     ]
    }
   ],
   "source": [
    "accuracy_percentage = accuracy * 100\n",
    "\n",
    "print(f'Accuracy: {accuracy_percentage:.2f}%')"
   ]
  },
  {
   "cell_type": "markdown",
   "id": "64ed1c2c-587a-4129-a50f-88cb14ce35a0",
   "metadata": {},
   "source": [
    "## Calculates accuracy in percentage and prints it"
   ]
  }
 ],
 "metadata": {
  "kernelspec": {
   "display_name": "Python 3 (ipykernel)",
   "language": "python",
   "name": "python3"
  },
  "language_info": {
   "codemirror_mode": {
    "name": "ipython",
    "version": 3
   },
   "file_extension": ".py",
   "mimetype": "text/x-python",
   "name": "python",
   "nbconvert_exporter": "python",
   "pygments_lexer": "ipython3",
   "version": "3.12.0"
  }
 },
 "nbformat": 4,
 "nbformat_minor": 5
}
