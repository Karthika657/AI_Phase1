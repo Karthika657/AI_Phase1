{
 "cells": [
  {
   "cell_type": "code",
   "execution_count": 2,
   "id": "de74d6f2-208e-401e-bf05-32382b7d8d92",
   "metadata": {},
   "outputs": [
    {
     "name": "stdout",
     "output_type": "stream",
     "text": [
      "Requirement already satisfied: scikit-learn in c:\\users\\riaz\\appdata\\local\\programs\\python\\python312\\lib\\site-packages (1.3.2)\n",
      "Requirement already satisfied: numpy<2.0,>=1.17.3 in c:\\users\\riaz\\appdata\\local\\programs\\python\\python312\\lib\\site-packages (from scikit-learn) (1.26.0)\n",
      "Requirement already satisfied: scipy>=1.5.0 in c:\\users\\riaz\\appdata\\local\\programs\\python\\python312\\lib\\site-packages (from scikit-learn) (1.11.3)\n",
      "Requirement already satisfied: joblib>=1.1.1 in c:\\users\\riaz\\appdata\\local\\programs\\python\\python312\\lib\\site-packages (from scikit-learn) (1.3.2)\n",
      "Requirement already satisfied: threadpoolctl>=2.0.0 in c:\\users\\riaz\\appdata\\local\\programs\\python\\python312\\lib\\site-packages (from scikit-learn) (3.2.0)\n",
      "Note: you may need to restart the kernel to use updated packages.\n"
     ]
    },
    {
     "name": "stderr",
     "output_type": "stream",
     "text": [
      "\n",
      "[notice] A new release of pip is available: 23.2.1 -> 23.3.1\n",
      "[notice] To update, run: python.exe -m pip install --upgrade pip\n"
     ]
    }
   ],
   "source": [
    "pip install -U scikit-learn"
   ]
  },
  {
   "cell_type": "markdown",
   "id": "aa55e46a-786a-47aa-9111-0fda0f58074c",
   "metadata": {},
   "source": [
    "## The machine learning library in python is installed"
   ]
  },
  {
   "cell_type": "code",
   "execution_count": 3,
   "id": "7e00e018-c145-47de-8f49-c5f779cf3815",
   "metadata": {},
   "outputs": [],
   "source": [
    "import pandas as pd\n",
    "import numpy as np\n",
    "from sklearn.model_selection import train_test_split\n",
    "from sklearn.ensemble import RandomForestClassifier\n",
    "from sklearn.metrics import accuracy_score, classification_report, confusion_matrix\n",
    "from sklearn.preprocessing import LabelEncoder"
   ]
  },
  {
   "cell_type": "markdown",
   "id": "cad1bffd-6eb4-4cee-bfe3-68179254720d",
   "metadata": {},
   "source": [
    "## Libraries are imported"
   ]
  },
  {
   "cell_type": "code",
   "execution_count": 4,
   "id": "7bc8e74a-d139-4822-9493-798ec107a37a",
   "metadata": {},
   "outputs": [],
   "source": [
    "dd1=pd.read_csv(r\"C:\\Users\\Riaz\\Desktop\\jupyternotebook\\NewCleanedFile.csv\")"
   ]
  },
  {
   "cell_type": "markdown",
   "id": "d23f3a71-8ad5-4ec3-90ce-14e63a4aede5",
   "metadata": {},
   "source": [
    "## Dataset is stored and read."
   ]
  },
  {
   "cell_type": "code",
   "execution_count": 5,
   "id": "6620477e-afc9-4617-b7e8-d37ddf1b7e8b",
   "metadata": {},
   "outputs": [],
   "source": [
    "non_numeric_cols = dd1.select_dtypes(exclude=[np.number]).columns"
   ]
  },
  {
   "cell_type": "markdown",
   "id": "3c9b4ed7-331c-486f-b90b-51273ddc6737",
   "metadata": {},
   "source": [
    "## Selects columns of non-numeric datatype"
   ]
  },
  {
   "cell_type": "code",
   "execution_count": 6,
   "id": "610a1463-b707-480c-87e1-30c2485471d7",
   "metadata": {},
   "outputs": [],
   "source": [
    "label_encoder = LabelEncoder()\n",
    "dd1_encoded = dd1.copy()"
   ]
  },
  {
   "cell_type": "markdown",
   "id": "6605bb02-85eb-46c2-abd8-4a1914ac0b22",
   "metadata": {},
   "source": [
    "## Instance of label encoder is created and copy of the dataset is created"
   ]
  },
  {
   "cell_type": "code",
   "execution_count": 7,
   "id": "9e6ae31f-f458-4625-8dd7-35a76de9e22a",
   "metadata": {},
   "outputs": [],
   "source": [
    "for col in non_numeric_cols:\n",
    "    dd1_encoded[col] = label_encoder.fit_transform(dd1[col])"
   ]
  },
  {
   "cell_type": "markdown",
   "id": "d3b8430b-94bb-4217-a1d4-05eda21b87e9",
   "metadata": {},
   "source": [
    "## Iteration starts and the non-numeric columns are transformed to numeric values"
   ]
  },
  {
   "cell_type": "code",
   "execution_count": 9,
   "id": "ea4e535f-91f9-4fd8-a54a-c3f23d333314",
   "metadata": {},
   "outputs": [],
   "source": [
    "X = dd1_encoded.drop(['COMPANY_CLASS'], axis=1)\n",
    "y = dd1_encoded['COMPANY_CLASS']"
   ]
  },
  {
   "cell_type": "markdown",
   "id": "8b5e4e29-168c-4fd3-8c9a-e06e55480793",
   "metadata": {},
   "source": [
    "## X contains the input feature and y contains the target variable"
   ]
  },
  {
   "cell_type": "code",
   "execution_count": 10,
   "id": "1d83caf6-052c-489d-8dbc-26b254aa7e06",
   "metadata": {},
   "outputs": [],
   "source": [
    "X_train, X_test, y_train, y_test = train_test_split(X, y, test_size=0.2, random_state=42)"
   ]
  },
  {
   "cell_type": "markdown",
   "id": "4a946cdf-af95-4274-b616-50cd83a85d44",
   "metadata": {},
   "source": [
    "## Splitting of data into training and testing sets"
   ]
  },
  {
   "cell_type": "code",
   "execution_count": 11,
   "id": "5db1af71-27a0-46a7-8ce3-4bf385b6cf38",
   "metadata": {},
   "outputs": [],
   "source": [
    "rf_classifier = RandomForestClassifier(n_estimators=100, random_state=42)"
   ]
  },
  {
   "cell_type": "markdown",
   "id": "d1d7a237-38ef-49f6-861d-0e29410eadbf",
   "metadata": {},
   "source": [
    "## Initializing RandomForestClassifier"
   ]
  },
  {
   "cell_type": "code",
   "execution_count": 12,
   "id": "84d8873c-6fea-4a95-91ad-33c233080611",
   "metadata": {},
   "outputs": [
    {
     "data": {
      "text/html": [
       "<style>#sk-container-id-1 {color: black;}#sk-container-id-1 pre{padding: 0;}#sk-container-id-1 div.sk-toggleable {background-color: white;}#sk-container-id-1 label.sk-toggleable__label {cursor: pointer;display: block;width: 100%;margin-bottom: 0;padding: 0.3em;box-sizing: border-box;text-align: center;}#sk-container-id-1 label.sk-toggleable__label-arrow:before {content: \"▸\";float: left;margin-right: 0.25em;color: #696969;}#sk-container-id-1 label.sk-toggleable__label-arrow:hover:before {color: black;}#sk-container-id-1 div.sk-estimator:hover label.sk-toggleable__label-arrow:before {color: black;}#sk-container-id-1 div.sk-toggleable__content {max-height: 0;max-width: 0;overflow: hidden;text-align: left;background-color: #f0f8ff;}#sk-container-id-1 div.sk-toggleable__content pre {margin: 0.2em;color: black;border-radius: 0.25em;background-color: #f0f8ff;}#sk-container-id-1 input.sk-toggleable__control:checked~div.sk-toggleable__content {max-height: 200px;max-width: 100%;overflow: auto;}#sk-container-id-1 input.sk-toggleable__control:checked~label.sk-toggleable__label-arrow:before {content: \"▾\";}#sk-container-id-1 div.sk-estimator input.sk-toggleable__control:checked~label.sk-toggleable__label {background-color: #d4ebff;}#sk-container-id-1 div.sk-label input.sk-toggleable__control:checked~label.sk-toggleable__label {background-color: #d4ebff;}#sk-container-id-1 input.sk-hidden--visually {border: 0;clip: rect(1px 1px 1px 1px);clip: rect(1px, 1px, 1px, 1px);height: 1px;margin: -1px;overflow: hidden;padding: 0;position: absolute;width: 1px;}#sk-container-id-1 div.sk-estimator {font-family: monospace;background-color: #f0f8ff;border: 1px dotted black;border-radius: 0.25em;box-sizing: border-box;margin-bottom: 0.5em;}#sk-container-id-1 div.sk-estimator:hover {background-color: #d4ebff;}#sk-container-id-1 div.sk-parallel-item::after {content: \"\";width: 100%;border-bottom: 1px solid gray;flex-grow: 1;}#sk-container-id-1 div.sk-label:hover label.sk-toggleable__label {background-color: #d4ebff;}#sk-container-id-1 div.sk-serial::before {content: \"\";position: absolute;border-left: 1px solid gray;box-sizing: border-box;top: 0;bottom: 0;left: 50%;z-index: 0;}#sk-container-id-1 div.sk-serial {display: flex;flex-direction: column;align-items: center;background-color: white;padding-right: 0.2em;padding-left: 0.2em;position: relative;}#sk-container-id-1 div.sk-item {position: relative;z-index: 1;}#sk-container-id-1 div.sk-parallel {display: flex;align-items: stretch;justify-content: center;background-color: white;position: relative;}#sk-container-id-1 div.sk-item::before, #sk-container-id-1 div.sk-parallel-item::before {content: \"\";position: absolute;border-left: 1px solid gray;box-sizing: border-box;top: 0;bottom: 0;left: 50%;z-index: -1;}#sk-container-id-1 div.sk-parallel-item {display: flex;flex-direction: column;z-index: 1;position: relative;background-color: white;}#sk-container-id-1 div.sk-parallel-item:first-child::after {align-self: flex-end;width: 50%;}#sk-container-id-1 div.sk-parallel-item:last-child::after {align-self: flex-start;width: 50%;}#sk-container-id-1 div.sk-parallel-item:only-child::after {width: 0;}#sk-container-id-1 div.sk-dashed-wrapped {border: 1px dashed gray;margin: 0 0.4em 0.5em 0.4em;box-sizing: border-box;padding-bottom: 0.4em;background-color: white;}#sk-container-id-1 div.sk-label label {font-family: monospace;font-weight: bold;display: inline-block;line-height: 1.2em;}#sk-container-id-1 div.sk-label-container {text-align: center;}#sk-container-id-1 div.sk-container {/* jupyter's `normalize.less` sets `[hidden] { display: none; }` but bootstrap.min.css set `[hidden] { display: none !important; }` so we also need the `!important` here to be able to override the default hidden behavior on the sphinx rendered scikit-learn.org. See: https://github.com/scikit-learn/scikit-learn/issues/21755 */display: inline-block !important;position: relative;}#sk-container-id-1 div.sk-text-repr-fallback {display: none;}</style><div id=\"sk-container-id-1\" class=\"sk-top-container\"><div class=\"sk-text-repr-fallback\"><pre>RandomForestClassifier(random_state=42)</pre><b>In a Jupyter environment, please rerun this cell to show the HTML representation or trust the notebook. <br />On GitHub, the HTML representation is unable to render, please try loading this page with nbviewer.org.</b></div><div class=\"sk-container\" hidden><div class=\"sk-item\"><div class=\"sk-estimator sk-toggleable\"><input class=\"sk-toggleable__control sk-hidden--visually\" id=\"sk-estimator-id-1\" type=\"checkbox\" checked><label for=\"sk-estimator-id-1\" class=\"sk-toggleable__label sk-toggleable__label-arrow\">RandomForestClassifier</label><div class=\"sk-toggleable__content\"><pre>RandomForestClassifier(random_state=42)</pre></div></div></div></div></div>"
      ],
      "text/plain": [
       "RandomForestClassifier(random_state=42)"
      ]
     },
     "execution_count": 12,
     "metadata": {},
     "output_type": "execute_result"
    }
   ],
   "source": [
    "rf_classifier.fit(X_train, y_train)"
   ]
  },
  {
   "cell_type": "markdown",
   "id": "ad82b4a8-e41a-4dbb-a092-c7a1470472ae",
   "metadata": {},
   "source": [
    "## Trains the RandomForestClassifier"
   ]
  },
  {
   "cell_type": "code",
   "execution_count": 13,
   "id": "b6d9bdc5-9abe-4678-8e80-ffd1ecff0133",
   "metadata": {},
   "outputs": [],
   "source": [
    "y_pred = rf_classifier.predict(X_test)\n"
   ]
  },
  {
   "cell_type": "markdown",
   "id": "0c12cdde-631c-435a-a3c4-50af8d7a1ef1",
   "metadata": {},
   "source": [
    "## Predictions are made on test data\n"
   ]
  },
  {
   "cell_type": "code",
   "execution_count": 14,
   "id": "4a10ea49-123c-4f96-a8ea-e820d8e67ab7",
   "metadata": {},
   "outputs": [],
   "source": [
    "accuracy = accuracy_score(y_test, y_pred)\n",
    "conf_matrix = confusion_matrix(y_test, y_pred)\n",
    "class_report = classification_report(y_test, y_pred)\n"
   ]
  },
  {
   "cell_type": "markdown",
   "id": "85dc5f47-c745-4fb1-bd67-82c71938361d",
   "metadata": {},
   "source": [
    "## Accuracy of the model's prediction "
   ]
  },
  {
   "cell_type": "code",
   "execution_count": 15,
   "id": "53998da9-6547-4200-a800-e35a80655283",
   "metadata": {},
   "outputs": [
    {
     "name": "stdout",
     "output_type": "stream",
     "text": [
      "Accuracy: 0.9373474369406021\n",
      "Confusion Matrix:\n",
      "[[13436     0   121]\n",
      " [  110    45     0]\n",
      " [  693     0   343]]\n",
      "Classification Report:\n",
      "              precision    recall  f1-score   support\n",
      "\n",
      "           0       0.94      0.99      0.97     13557\n",
      "           1       1.00      0.29      0.45       155\n",
      "           2       0.74      0.33      0.46      1036\n",
      "\n",
      "    accuracy                           0.94     14748\n",
      "   macro avg       0.89      0.54      0.62     14748\n",
      "weighted avg       0.93      0.94      0.93     14748\n",
      "\n"
     ]
    }
   ],
   "source": [
    "print(f'Accuracy: {accuracy}')\n",
    "print('Confusion Matrix:')\n",
    "print(conf_matrix)\n",
    "print('Classification Report:')\n",
    "print(class_report)"
   ]
  },
  {
   "cell_type": "markdown",
   "id": "8443f3b0-0492-4283-8f64-3724a58c86bd",
   "metadata": {},
   "source": [
    "## Prints the accuracy,confusion matrix,classification report"
   ]
  },
  {
   "cell_type": "code",
   "execution_count": 16,
   "id": "19e8b0a0-595d-4221-b082-883dd46ccb1a",
   "metadata": {},
   "outputs": [
    {
     "name": "stdout",
     "output_type": "stream",
     "text": [
      "Accuracy: 93.73%\n"
     ]
    }
   ],
   "source": [
    "accuracy_percentage = accuracy * 100\n",
    "\n",
    "print(f'Accuracy: {accuracy_percentage:.2f}%')"
   ]
  },
  {
   "cell_type": "markdown",
   "id": "f6889ebd-3f07-43fc-ae6f-987db0a1adf6",
   "metadata": {},
   "source": [
    "## Calculates accuracy in percentage and prints it"
   ]
  },
  {
   "cell_type": "code",
   "execution_count": null,
   "id": "8be3e142-68ce-4942-a5fd-d666f18fd833",
   "metadata": {},
   "outputs": [],
   "source": []
  }
 ],
 "metadata": {
  "kernelspec": {
   "display_name": "Python 3 (ipykernel)",
   "language": "python",
   "name": "python3"
  },
  "language_info": {
   "codemirror_mode": {
    "name": "ipython",
    "version": 3
   },
   "file_extension": ".py",
   "mimetype": "text/x-python",
   "name": "python",
   "nbconvert_exporter": "python",
   "pygments_lexer": "ipython3",
   "version": "3.12.0"
  }
 },
 "nbformat": 4,
 "nbformat_minor": 5
}
